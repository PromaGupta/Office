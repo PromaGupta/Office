{
 "cells": [
  {
   "cell_type": "markdown",
   "id": "06aeeb9e",
   "metadata": {},
   "source": [
    "# Project 1 - Chapter 1 - Essentials"
   ]
  },
  {
   "cell_type": "code",
   "execution_count": 1,
   "id": "b6e8e3f5",
   "metadata": {},
   "outputs": [
    {
     "name": "stdout",
     "output_type": "stream",
     "text": [
      "Hello World!\n"
     ]
    }
   ],
   "source": [
    "print(\"Hello World!\")"
   ]
  },
  {
   "cell_type": "markdown",
   "id": "bba170b9",
   "metadata": {},
   "source": [
    "We just used the print function. Print will print whatever object is passed to it. We passed the string, \"Hello World!\", and it printed after the code.\n",
    "\n",
    "# Introduction to Jupyter\n",
    "\n",
    "This is the first program I have written in ECON 411/611. Next, we will start working string variables."
   ]
  },
  {
   "cell_type": "code",
   "execution_count": 2,
   "id": "e65e53c5",
   "metadata": {},
   "outputs": [
    {
     "name": "stdout",
     "output_type": "stream",
     "text": [
      "john nash\n"
     ]
    }
   ],
   "source": [
    "msg = \"john nash\"\n",
    "print(msg)"
   ]
  },
  {
   "cell_type": "markdown",
   "id": "f70a75db",
   "metadata": {},
   "source": [
    "Next, we are going to use the string methods to capitalize different letters.\n",
    "\n",
    "The method *.upper()* will make the string all caps, *.title()* will capitalize the first letters of each string."
   ]
  },
  {
   "cell_type": "code",
   "execution_count": 3,
   "id": "3004cc65",
   "metadata": {},
   "outputs": [
    {
     "name": "stdout",
     "output_type": "stream",
     "text": [
      "JOHN NASH\n",
      "John Nash\n"
     ]
    }
   ],
   "source": [
    "print(msg.upper())\n",
    "print(msg.title())"
   ]
  },
  {
   "cell_type": "markdown",
   "id": "e48f4da3",
   "metadata": {},
   "source": [
    "## String Concatenation\n",
    "\n",
    "You can concatenate string using the plus \"+\" sign. That means that you join them in order to create a single aggregate string."
   ]
  },
  {
   "cell_type": "code",
   "execution_count": 4,
   "id": "0657dd42",
   "metadata": {},
   "outputs": [
    {
     "name": "stdout",
     "output_type": "stream",
     "text": [
      "You thought it would be easy\n",
      "You thought it wouldn't be strange\n",
      "But then you started coding\n",
      "Things never were the same\n"
     ]
    }
   ],
   "source": [
    "line1 = \"You thought it would be easy\"\n",
    "line2 = \"You thought it wouldn't be strange\"\n",
    "line3 = \"But then you started coding\"\n",
    "line4 = \"Things never were the same\"\n",
    "\n",
    "print(line1)\n",
    "print(line2)\n",
    "print(line3)\n",
    "print(line4)"
   ]
  },
  {
   "cell_type": "code",
   "execution_count": 5,
   "id": "f1f81231",
   "metadata": {},
   "outputs": [
    {
     "name": "stdout",
     "output_type": "stream",
     "text": [
      "You thought it would be easyYou thought it wouldn't be strangeBut then you started codingThings never were the same\n"
     ]
    }
   ],
   "source": [
    "print(line1+line2+line3+line4)"
   ]
  },
  {
   "cell_type": "code",
   "execution_count": 6,
   "id": "3e152a5b",
   "metadata": {},
   "outputs": [
    {
     "name": "stdout",
     "output_type": "stream",
     "text": [
      "You thought it would be easyYou thought it wouldn't be strangeBut then you started codingThings never were the same\n"
     ]
    }
   ],
   "source": [
    "concat_strings = line1+line2+line3+line4\n",
    "print(concat_strings)"
   ]
  },
  {
   "cell_type": "markdown",
   "id": "ef7d5df1",
   "metadata": {},
   "source": [
    "The *sep* option in *print()* allows you to determine the character that will be printed in lieu of each comma."
   ]
  },
  {
   "cell_type": "code",
   "execution_count": 7,
   "id": "047b2a27",
   "metadata": {},
   "outputs": [
    {
     "name": "stdout",
     "output_type": "stream",
     "text": [
      "You thought it would be easy\n",
      "You thought it wouldn't be strange\n",
      "But then you started coding\n",
      "Things never were the same\n"
     ]
    }
   ],
   "source": [
    "print(line1,line2,line3,line4, sep = \"\\n\")"
   ]
  },
  {
   "cell_type": "markdown",
   "id": "928ade8c",
   "metadata": {},
   "source": [
    "By using the option, sep = \"\\n\", each comma is interpretted as a new line. This would be the same as adding \"\\n\" to every line."
   ]
  },
  {
   "cell_type": "code",
   "execution_count": 9,
   "id": "40da5d4c",
   "metadata": {},
   "outputs": [
    {
     "name": "stdout",
     "output_type": "stream",
     "text": [
      "You thought it would be easy\n",
      "You thought it wouldn't be strange\n",
      "But then you started coding\n",
      "Things never were the same\n",
      "\n"
     ]
    }
   ],
   "source": [
    "print(line1 + \"\\n\", \n",
    "      line2 + \"\\n\", \n",
    "      line3 + \"\\n\",\n",
    "      line4 + \"\\n\", \n",
    "      sep = \"\")"
   ]
  },
  {
   "cell_type": "markdown",
   "id": "6e6c95ab",
   "metadata": {},
   "source": [
    "## Distinction between double and single quotes"
   ]
  },
  {
   "cell_type": "code",
   "execution_count": 4,
   "id": "d1ac7002",
   "metadata": {},
   "outputs": [
    {
     "name": "stdout",
     "output_type": "stream",
     "text": [
      "We may use 'single quotes' within double quotes\n",
      "We  may use \"double quotes\" in double quotes\n",
      "We may use \"double quotes\" in double quotes.\n",
      "We may use 'single quotes' in single quotes.\n"
     ]
    }
   ],
   "source": [
    "single_in_double = \"We may use 'single quotes' within double quotes\"\n",
    "double_in_single = 'We  may use \"double quotes\" in double quotes'\n",
    "double_in_double = \"We may use \\\"double quotes\\\" in double quotes.\"\n",
    "single_in_single = 'We may use \\'single quotes\\' in single quotes.'\n",
    "\n",
    "print(single_in_double)\n",
    "print(double_in_single)\n",
    "print(double_in_double)\n",
    "print(single_in_single)"
   ]
  },
  {
   "cell_type": "markdown",
   "id": "b9fd6a07",
   "metadata": {},
   "source": [
    "We are going to add \\n and \\t to the current example."
   ]
  },
  {
   "cell_type": "code",
   "execution_count": 7,
   "id": "cdb6d40b",
   "metadata": {},
   "outputs": [
    {
     "name": "stdout",
     "output_type": "stream",
     "text": [
      "We may use two backslashes for a single backslash: \\\n",
      "We may start a new line \n",
      "\tand use tab for a hanging indent\n"
     ]
    }
   ],
   "source": [
    "read_backslash = \\\n",
    "    \"We may use two backslashes for a single backslash: \\\\\"\n",
    "new_line_and_tab = \\\n",
    "    \"We may start a new line \\n\\tand use tab for a hanging indent\"\n",
    "print(read_backslash)\n",
    "print(new_line_and_tab)"
   ]
  },
  {
   "cell_type": "markdown",
   "id": "ab611dd2",
   "metadata": {},
   "source": [
    "# Using .strip() and .replace() string methods\n",
    "\n",
    "Sometimes we may want to transform strings by adding or removing spaces. We can remove space quite easily with the strip() commands.\n",
    "\n",
    ">    .lstrip(): remove spaces on the far left\n",
    ">\n",
    ">    .rstrip(): remove spaces on the far right\n",
    ">\n",
    ">    .strip(): remove spaces on the left and right of text object\n"
   ]
  },
  {
   "cell_type": "code",
   "execution_count": 11,
   "id": "f4e7af8f",
   "metadata": {},
   "outputs": [
    {
     "name": "stdout",
     "output_type": "stream",
     "text": [
      "no spaces removed:\n",
      "    Look at the spaces in the text!    \n",
      "Remove left spaces: Look at the spaces in the text!    \n",
      "Remove right spaces:     Look at the spaces in the text!\n",
      "Remove left and right spaces: Look at the spaces in the text!\n",
      "Remove all spaces: Lookatthespacesinthetext!\n",
      "Capitalize all first letters: Look At The Spaces In The Text!    \n"
     ]
    }
   ],
   "source": [
    "spaces = \"    Look at the spaces in the text!    \"\n",
    "print(\"no spaces removed:\", spaces, sep = \"\\n\")\n",
    "\n",
    "remove_left_spaces = spaces.lstrip()\n",
    "remove_right_spaces = spaces.rstrip()\n",
    "remove_left_and_right_spaces = spaces.strip()\n",
    "remove_all_spaces = spaces.replace(\" \",\"\")\n",
    "\n",
    "print(\"Remove left spaces:\", remove_left_spaces)\n",
    "print(\"Remove right spaces:\", remove_right_spaces)\n",
    "print(\"Remove left and right spaces:\", remove_left_and_right_spaces)\n",
    "print(\"Remove all spaces:\", remove_all_spaces)\n",
    "\n",
    "print(\"Capitalize all first letters:\", remove_left_spaces.title())"
   ]
  },
  {
   "cell_type": "markdown",
   "id": "0dfba519",
   "metadata": {},
   "source": [
    "# Working with Values\n",
    "\n",
    "Using a plus sign \"+\" between values sums the values. Using the sign between strings concatenates them."
   ]
  },
  {
   "cell_type": "code",
   "execution_count": 13,
   "id": "adea3cad",
   "metadata": {},
   "outputs": [
    {
     "name": "stdout",
     "output_type": "stream",
     "text": [
      "num1: 8 \n",
      "num1s: 53\n"
     ]
    }
   ],
   "source": [
    "num1 = 5 + 3\n",
    "num1s = \"5\" + \"3\"\n",
    "\n",
    "print(\"num1:\", num1,\"\\nnum1s:\", num1s)"
   ]
  },
  {
   "cell_type": "code",
   "execution_count": 14,
   "id": "f7191509",
   "metadata": {},
   "outputs": [
    {
     "name": "stdout",
     "output_type": "stream",
     "text": [
      "num1: 1.6666666666666667\n",
      "num2: 1.25\n",
      "num3: 1.3333333333333333\n"
     ]
    }
   ],
   "source": [
    "num1 = 5 / 3\n",
    "num2 = 5 / 4\n",
    "num3 = 4 / 3\n",
    "\n",
    "print(\"num1:\", num1)\n",
    "print(\"num2:\", num2)\n",
    "print(\"num3:\", num3)"
   ]
  },
  {
   "cell_type": "markdown",
   "id": "50a67807",
   "metadata": {},
   "source": [
    "Python will automatically transform int values if the output from the int generates a float, including when a float and int are added together."
   ]
  },
  {
   "cell_type": "code",
   "execution_count": 19,
   "id": "4ce9afb6",
   "metadata": {},
   "outputs": [
    {
     "data": {
      "text/plain": [
       "float"
      ]
     },
     "execution_count": 19,
     "metadata": {},
     "output_type": "execute_result"
    }
   ],
   "source": [
    "type(num1)"
   ]
  },
  {
   "cell_type": "code",
   "execution_count": 20,
   "id": "1bdd9bcd",
   "metadata": {},
   "outputs": [
    {
     "data": {
      "text/plain": [
       "int"
      ]
     },
     "execution_count": 20,
     "metadata": {},
     "output_type": "execute_result"
    }
   ],
   "source": [
    "type(3)"
   ]
  },
  {
   "cell_type": "code",
   "execution_count": 22,
   "id": "bcf7ce8b",
   "metadata": {},
   "outputs": [
    {
     "data": {
      "text/plain": [
       "3.0"
      ]
     },
     "execution_count": 22,
     "metadata": {},
     "output_type": "execute_result"
    }
   ],
   "source": [
    "float(3)"
   ]
  },
  {
   "cell_type": "code",
   "execution_count": 25,
   "id": "9a999d9b",
   "metadata": {},
   "outputs": [
    {
     "data": {
      "text/plain": [
       "float"
      ]
     },
     "execution_count": 25,
     "metadata": {},
     "output_type": "execute_result"
    }
   ],
   "source": [
    "type(1.5)"
   ]
  },
  {
   "cell_type": "code",
   "execution_count": 23,
   "id": "44b919f3",
   "metadata": {},
   "outputs": [
    {
     "data": {
      "text/plain": [
       "4.5"
      ]
     },
     "execution_count": 23,
     "metadata": {},
     "output_type": "execute_result"
    }
   ],
   "source": [
    "3 + 1.5"
   ]
  },
  {
   "cell_type": "code",
   "execution_count": 27,
   "id": "4533c79d",
   "metadata": {},
   "outputs": [
    {
     "data": {
      "text/plain": [
       "float"
      ]
     },
     "execution_count": 27,
     "metadata": {},
     "output_type": "execute_result"
    }
   ],
   "source": [
    "type(3 + 1.5)"
   ]
  },
  {
   "cell_type": "markdown",
   "id": "b605e1ad",
   "metadata": {},
   "source": [
    "The *import* command is used to import a module."
   ]
  },
  {
   "cell_type": "code",
   "execution_count": 29,
   "id": "734bdc62",
   "metadata": {},
   "outputs": [
    {
     "data": {
      "text/plain": [
       "sys.float_info(max=1.7976931348623157e+308, max_exp=1024, max_10_exp=308, min=2.2250738585072014e-308, min_exp=-1021, min_10_exp=-307, dig=15, mant_dig=53, epsilon=2.220446049250313e-16, radix=2, rounds=1)"
      ]
     },
     "execution_count": 29,
     "metadata": {},
     "output_type": "execute_result"
    }
   ],
   "source": [
    "import sys\n",
    "sys.float_info"
   ]
  },
  {
   "cell_type": "code",
   "execution_count": 34,
   "id": "32ae3a0a",
   "metadata": {},
   "outputs": [
    {
     "data": {
      "text/plain": [
       "8.98846567431158e+307"
      ]
     },
     "execution_count": 34,
     "metadata": {},
     "output_type": "execute_result"
    }
   ],
   "source": [
    "2. ** 1023"
   ]
  },
  {
   "cell_type": "code",
   "execution_count": 35,
   "id": "bd8fb85d",
   "metadata": {},
   "outputs": [
    {
     "ename": "OverflowError",
     "evalue": "(34, 'Result too large')",
     "output_type": "error",
     "traceback": [
      "\u001b[1;31m---------------------------------------------------------------------------\u001b[0m",
      "\u001b[1;31mOverflowError\u001b[0m                             Traceback (most recent call last)",
      "\u001b[1;32m<ipython-input-35-b5418d78437f>\u001b[0m in \u001b[0;36m<module>\u001b[1;34m\u001b[0m\n\u001b[1;32m----> 1\u001b[1;33m \u001b[1;36m2.\u001b[0m \u001b[1;33m**\u001b[0m \u001b[1;36m1024\u001b[0m\u001b[1;33m\u001b[0m\u001b[1;33m\u001b[0m\u001b[0m\n\u001b[0m",
      "\u001b[1;31mOverflowError\u001b[0m: (34, 'Result too large')"
     ]
    }
   ],
   "source": [
    "2. ** 1024"
   ]
  },
  {
   "cell_type": "markdown",
   "id": "d5242463",
   "metadata": {},
   "source": [
    "# Homework\n",
    "\n",
    "Make sure that you review the homework problems in Project 1 from the \"In Class Projects\" folder. These problems will not be collected, but they will be helpful to you."
   ]
  }
 ],
 "metadata": {
  "kernelspec": {
   "display_name": "Python 3 (ipykernel)",
   "language": "python",
   "name": "python3"
  },
  "language_info": {
   "codemirror_mode": {
    "name": "ipython",
    "version": 3
   },
   "file_extension": ".py",
   "mimetype": "text/x-python",
   "name": "python",
   "nbconvert_exporter": "python",
   "pygments_lexer": "ipython3",
   "version": "3.8.12"
  }
 },
 "nbformat": 4,
 "nbformat_minor": 5
}
