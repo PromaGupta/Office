{
 "cells": [
  {
   "cell_type": "markdown",
   "id": "6f8ed52e",
   "metadata": {},
   "source": [
    "# Dictionaries and DataFrames\n",
    "\n",
    "Today we are going build dictionaries. Dictionaries are datastructures that do not assume an index value for the data stored in the structures.\n",
    "\n",
    "Dictionaries take the general form:\n",
    "\n",
    "> my_dictionary = {key:obj}\n",
    "\n",
    "To call the object that is linked to the key, \n",
    "\n",
    "> *my_dictionary[key]* will output the object, *obj*."
   ]
  },
  {
   "cell_type": "code",
   "execution_count": 1,
   "id": "e71037a6",
   "metadata": {},
   "outputs": [
    {
     "data": {
      "text/plain": [
       "{}"
      ]
     },
     "execution_count": 1,
     "metadata": {},
     "output_type": "execute_result"
    }
   ],
   "source": [
    "dct = {}\n",
    "dct"
   ]
  },
  {
   "cell_type": "code",
   "execution_count": 2,
   "id": "f4625284",
   "metadata": {},
   "outputs": [
    {
     "data": {
      "text/plain": [
       "{'run': 'to move swiftly by foot',\n",
       " 'walk': 'to move slowly or leisurely by foot'}"
      ]
     },
     "execution_count": 2,
     "metadata": {},
     "output_type": "execute_result"
    }
   ],
   "source": [
    "dct = {\"run\":\"to move swiftly by foot\",\n",
    "        \"walk\": \"to move slowly or leisurely by foot\"}\n",
    "dct"
   ]
  },
  {
   "cell_type": "code",
   "execution_count": 3,
   "id": "d5cd3e54",
   "metadata": {},
   "outputs": [
    {
     "data": {
      "text/plain": [
       "{'run': {}, 'walk': {}}"
      ]
     },
     "execution_count": 3,
     "metadata": {},
     "output_type": "execute_result"
    }
   ],
   "source": [
    "dct = {\"run\":{},\n",
    "      \"walk\":{}}\n",
    "\n",
    "dct"
   ]
  },
  {
   "cell_type": "code",
   "execution_count": 4,
   "id": "2ea726ea",
   "metadata": {},
   "outputs": [
    {
     "data": {
      "text/plain": [
       "{'run': {'verb': 'to move swiftly by foot',\n",
       "  'noun': 'a period of time while one was running'},\n",
       " 'walk': {'verb': 'to move slowly or leisurely by foot',\n",
       "  'noun': 'a period of time while one was walking'}}"
      ]
     },
     "execution_count": 4,
     "metadata": {},
     "output_type": "execute_result"
    }
   ],
   "source": [
    "dct = {\"run\":{\n",
    "          \"verb\":\"to move swiftly by foot\",\n",
    "          \"noun\":\"a period of time while one was running\"},\n",
    "       \"walk\":{\n",
    "            \"verb\":\"to move slowly or leisurely by foot\",\n",
    "            \"noun\":\"a period of time while one was walking\"}\n",
    "      }\n",
    "dct"
   ]
  },
  {
   "cell_type": "code",
   "execution_count": 5,
   "id": "d41e2881",
   "metadata": {},
   "outputs": [
    {
     "data": {
      "text/html": [
       "<div>\n",
       "<style scoped>\n",
       "    .dataframe tbody tr th:only-of-type {\n",
       "        vertical-align: middle;\n",
       "    }\n",
       "\n",
       "    .dataframe tbody tr th {\n",
       "        vertical-align: top;\n",
       "    }\n",
       "\n",
       "    .dataframe thead th {\n",
       "        text-align: right;\n",
       "    }\n",
       "</style>\n",
       "<table border=\"1\" class=\"dataframe\">\n",
       "  <thead>\n",
       "    <tr style=\"text-align: right;\">\n",
       "      <th></th>\n",
       "      <th>run</th>\n",
       "      <th>walk</th>\n",
       "    </tr>\n",
       "  </thead>\n",
       "  <tbody>\n",
       "    <tr>\n",
       "      <th>verb</th>\n",
       "      <td>to move swiftly by foot</td>\n",
       "      <td>to move slowly or leisurely by foot</td>\n",
       "    </tr>\n",
       "    <tr>\n",
       "      <th>noun</th>\n",
       "      <td>a period of time while one was running</td>\n",
       "      <td>a period of time while one was walking</td>\n",
       "    </tr>\n",
       "  </tbody>\n",
       "</table>\n",
       "</div>"
      ],
      "text/plain": [
       "                                         run  \\\n",
       "verb                 to move swiftly by foot   \n",
       "noun  a period of time while one was running   \n",
       "\n",
       "                                        walk  \n",
       "verb     to move slowly or leisurely by foot  \n",
       "noun  a period of time while one was walking  "
      ]
     },
     "execution_count": 5,
     "metadata": {},
     "output_type": "execute_result"
    }
   ],
   "source": [
    "import pandas as pd\n",
    "df = pd.DataFrame(dct)\n",
    "df"
   ]
  },
  {
   "cell_type": "code",
   "execution_count": 6,
   "id": "e17fc36c",
   "metadata": {},
   "outputs": [
    {
     "data": {
      "text/plain": [
       "verb                   to move swiftly by foot\n",
       "noun    a period of time while one was running\n",
       "Name: run, dtype: object"
      ]
     },
     "execution_count": 6,
     "metadata": {},
     "output_type": "execute_result"
    }
   ],
   "source": [
    "# call a column in the df\n",
    "df[\"run\"]"
   ]
  },
  {
   "cell_type": "code",
   "execution_count": 7,
   "id": "677681d2",
   "metadata": {},
   "outputs": [
    {
     "data": {
      "text/plain": [
       "run                 to move swiftly by foot\n",
       "walk    to move slowly or leisurely by foot\n",
       "Name: verb, dtype: object"
      ]
     },
     "execution_count": 7,
     "metadata": {},
     "output_type": "execute_result"
    }
   ],
   "source": [
    "# call a row in the df\n",
    "df.loc[\"verb\"]"
   ]
  },
  {
   "cell_type": "code",
   "execution_count": 8,
   "id": "4e4b6d85",
   "metadata": {},
   "outputs": [
    {
     "data": {
      "text/plain": [
       "'to move swiftly by foot'"
      ]
     },
     "execution_count": 8,
     "metadata": {},
     "output_type": "execute_result"
    }
   ],
   "source": [
    "# call a particular cell\n",
    "df.loc[\"verb\", \"run\"]"
   ]
  },
  {
   "cell_type": "code",
   "execution_count": 9,
   "id": "d78aa409",
   "metadata": {},
   "outputs": [
    {
     "data": {
      "text/plain": [
       "{'Caden': {'Age': 19, 'Interesting Fact': 'Played hockey in highschool'},\n",
       " 'Jacob P': {'Age': 21,\n",
       "  'Interesting Fact': 'Dr. Caton thought my last name was Keterson'},\n",
       " 'Finnian': {'Age': 21, 'Interesting Fact': 'Wrestled in highschool'},\n",
       " 'Genesis': {'Age': 20, 'Interesting Fact': 'Tore both ACLs'},\n",
       " 'Sam': {'Age': 23, 'Interesting Fact': 'Favorite color beige'},\n",
       " 'Proma': {'Age': 24,\n",
       "  'Interesting Fact': 'Learned classical dancing for 10 years'},\n",
       " 'Zach': {'Age': 20,\n",
       "  'Interesting Fact': 'On the track and field team for long-distance'},\n",
       " 'Jacob R': {'Age': 20,\n",
       "  'Interesting Fact': 'Plays classic rock on the guitar'},\n",
       " 'Brandon': {'Age': 23,\n",
       "  'Interesting Fact': 'Used play baseball in highschool and other leagues'},\n",
       " 'Gabe': {'Age': 23,\n",
       "  'Interesting Fact': 'A double major MIS and Accounting for undergrad'},\n",
       " 'Drew': {'Age': 49,\n",
       "  'Interesting Fact': 'Was in the Air Force and freed Keiko (Free Willy)'},\n",
       " 'Isaac': {'Age': 21,\n",
       "  'Interesting Fact': 'Traveling to Europe in the Summer 2022'},\n",
       " 'Kodjo': {'Age': 30, 'Interesting Fact': 'Wife is a soldier!'}}"
      ]
     },
     "execution_count": 9,
     "metadata": {},
     "output_type": "execute_result"
    }
   ],
   "source": [
    "dct  = {\"Caden\":{\"Age\":19,\n",
    "                 \"Interesting Fact\":\"Played hockey in highschool\"},\n",
    "       \"Jacob P\":{\"Age\":21,\n",
    "                 \"Interesting Fact\":\"Dr. Caton thought my last name was Keterson\"},\n",
    "       \"Finnian\":{\"Age\":21,\n",
    "                 \"Interesting Fact\":\"Wrestled in highschool\"},\n",
    "       \"Genesis\":{\"Age\":20,\n",
    "                 \"Interesting Fact\":\"Tore both ACLs\"},\n",
    "       \"Sam\":{\"Age\":23,\n",
    "                 \"Interesting Fact\":\"Favorite color beige\"},\n",
    "       \"Proma\":{\"Age\":24,\n",
    "                 \"Interesting Fact\":\"Learned classical dancing for 10 years\"},\n",
    "       \"Zach\":{\"Age\":20,\n",
    "                 \"Interesting Fact\":\"On the track and field team for long-distance\"},\n",
    "       \"Jacob R\":{\"Age\":20,\n",
    "                 \"Interesting Fact\":\"Plays classic rock on the guitar\"},\n",
    "       \"Brandon\":{\"Age\":23,\n",
    "                 \"Interesting Fact\":\"Used play baseball in highschool and other leagues\"},\n",
    "       \"Gabe\":{\"Age\":23,\n",
    "                 \"Interesting Fact\":\"A double major MIS and Accounting for undergrad\"},\n",
    "       \"Drew\":{\"Age\":49,\n",
    "                 \"Interesting Fact\":\"Was in the Air Force and freed Keiko (Free Willy)\"},\n",
    "        \"Isaac\":{\"Age\":21,\n",
    "                 \"Interesting Fact\":\"Traveling to Europe in the Summer 2022\"},\n",
    "       \"Kodjo\":{\"Age\":30,\n",
    "                 \"Interesting Fact\":\"Wife is a soldier!\"}}\n",
    "dct"
   ]
  },
  {
   "cell_type": "code",
   "execution_count": 10,
   "id": "2c7288ff",
   "metadata": {},
   "outputs": [
    {
     "data": {
      "text/html": [
       "<div>\n",
       "<style scoped>\n",
       "    .dataframe tbody tr th:only-of-type {\n",
       "        vertical-align: middle;\n",
       "    }\n",
       "\n",
       "    .dataframe tbody tr th {\n",
       "        vertical-align: top;\n",
       "    }\n",
       "\n",
       "    .dataframe thead th {\n",
       "        text-align: right;\n",
       "    }\n",
       "</style>\n",
       "<table border=\"1\" class=\"dataframe\">\n",
       "  <thead>\n",
       "    <tr style=\"text-align: right;\">\n",
       "      <th></th>\n",
       "      <th>Age</th>\n",
       "      <th>Interesting Fact</th>\n",
       "    </tr>\n",
       "  </thead>\n",
       "  <tbody>\n",
       "    <tr>\n",
       "      <th>Caden</th>\n",
       "      <td>19</td>\n",
       "      <td>Played hockey in highschool</td>\n",
       "    </tr>\n",
       "    <tr>\n",
       "      <th>Jacob P</th>\n",
       "      <td>21</td>\n",
       "      <td>Dr. Caton thought my last name was Keterson</td>\n",
       "    </tr>\n",
       "    <tr>\n",
       "      <th>Finnian</th>\n",
       "      <td>21</td>\n",
       "      <td>Wrestled in highschool</td>\n",
       "    </tr>\n",
       "    <tr>\n",
       "      <th>Genesis</th>\n",
       "      <td>20</td>\n",
       "      <td>Tore both ACLs</td>\n",
       "    </tr>\n",
       "    <tr>\n",
       "      <th>Sam</th>\n",
       "      <td>23</td>\n",
       "      <td>Favorite color beige</td>\n",
       "    </tr>\n",
       "    <tr>\n",
       "      <th>Proma</th>\n",
       "      <td>24</td>\n",
       "      <td>Learned classical dancing for 10 years</td>\n",
       "    </tr>\n",
       "    <tr>\n",
       "      <th>Zach</th>\n",
       "      <td>20</td>\n",
       "      <td>On the track and field team for long-distance</td>\n",
       "    </tr>\n",
       "    <tr>\n",
       "      <th>Jacob R</th>\n",
       "      <td>20</td>\n",
       "      <td>Plays classic rock on the guitar</td>\n",
       "    </tr>\n",
       "    <tr>\n",
       "      <th>Brandon</th>\n",
       "      <td>23</td>\n",
       "      <td>Used play baseball in highschool and other lea...</td>\n",
       "    </tr>\n",
       "    <tr>\n",
       "      <th>Gabe</th>\n",
       "      <td>23</td>\n",
       "      <td>A double major MIS and Accounting for undergrad</td>\n",
       "    </tr>\n",
       "    <tr>\n",
       "      <th>Drew</th>\n",
       "      <td>49</td>\n",
       "      <td>Was in the Air Force and freed Keiko (Free Willy)</td>\n",
       "    </tr>\n",
       "    <tr>\n",
       "      <th>Isaac</th>\n",
       "      <td>21</td>\n",
       "      <td>Traveling to Europe in the Summer 2022</td>\n",
       "    </tr>\n",
       "    <tr>\n",
       "      <th>Kodjo</th>\n",
       "      <td>30</td>\n",
       "      <td>Wife is a soldier!</td>\n",
       "    </tr>\n",
       "  </tbody>\n",
       "</table>\n",
       "</div>"
      ],
      "text/plain": [
       "        Age                                   Interesting Fact\n",
       "Caden    19                        Played hockey in highschool\n",
       "Jacob P  21        Dr. Caton thought my last name was Keterson\n",
       "Finnian  21                             Wrestled in highschool\n",
       "Genesis  20                                     Tore both ACLs\n",
       "Sam      23                               Favorite color beige\n",
       "Proma    24             Learned classical dancing for 10 years\n",
       "Zach     20      On the track and field team for long-distance\n",
       "Jacob R  20                   Plays classic rock on the guitar\n",
       "Brandon  23  Used play baseball in highschool and other lea...\n",
       "Gabe     23    A double major MIS and Accounting for undergrad\n",
       "Drew     49  Was in the Air Force and freed Keiko (Free Willy)\n",
       "Isaac    21             Traveling to Europe in the Summer 2022\n",
       "Kodjo    30                                 Wife is a soldier!"
      ]
     },
     "execution_count": 10,
     "metadata": {},
     "output_type": "execute_result"
    }
   ],
   "source": [
    "# transpose a dataframe by calling df.T\n",
    "class_df = pd.DataFrame(dct).T\n",
    "class_df"
   ]
  },
  {
   "cell_type": "code",
   "execution_count": 11,
   "id": "e5598f25",
   "metadata": {},
   "outputs": [
    {
     "data": {
      "text/plain": [
       "Index(['Caden', 'Jacob P', 'Finnian', 'Genesis', 'Sam', 'Proma', 'Zach',\n",
       "       'Jacob R', 'Brandon', 'Gabe', 'Drew', 'Isaac', 'Kodjo'],\n",
       "      dtype='object')"
      ]
     },
     "execution_count": 11,
     "metadata": {},
     "output_type": "execute_result"
    }
   ],
   "source": [
    "class_df.index"
   ]
  },
  {
   "cell_type": "code",
   "execution_count": 12,
   "id": "4210d432",
   "metadata": {},
   "outputs": [
    {
     "data": {
      "text/plain": [
       "Caden      19\n",
       "Jacob P    21\n",
       "Finnian    21\n",
       "Genesis    20\n",
       "Sam        23\n",
       "Proma      24\n",
       "Zach       20\n",
       "Jacob R    20\n",
       "Brandon    23\n",
       "Gabe       23\n",
       "Drew       49\n",
       "Isaac      21\n",
       "Kodjo      30\n",
       "Name: Age, dtype: object"
      ]
     },
     "execution_count": 12,
     "metadata": {},
     "output_type": "execute_result"
    }
   ],
   "source": [
    "class_df[\"Age\"]"
   ]
  },
  {
   "cell_type": "code",
   "execution_count": 13,
   "id": "c02ca6b0",
   "metadata": {},
   "outputs": [
    {
     "data": {
      "text/plain": [
       "Caden                            Played hockey in highschool\n",
       "Jacob P          Dr. Caton thought my last name was Keterson\n",
       "Finnian                               Wrestled in highschool\n",
       "Genesis                                       Tore both ACLs\n",
       "Sam                                     Favorite color beige\n",
       "Proma                 Learned classical dancing for 10 years\n",
       "Zach           On the track and field team for long-distance\n",
       "Jacob R                     Plays classic rock on the guitar\n",
       "Brandon    Used play baseball in highschool and other lea...\n",
       "Gabe         A double major MIS and Accounting for undergrad\n",
       "Drew       Was in the Air Force and freed Keiko (Free Willy)\n",
       "Isaac                 Traveling to Europe in the Summer 2022\n",
       "Kodjo                                     Wife is a soldier!\n",
       "Name: Interesting Fact, dtype: object"
      ]
     },
     "execution_count": 13,
     "metadata": {},
     "output_type": "execute_result"
    }
   ],
   "source": [
    "class_df[\"Interesting Fact\"]"
   ]
  },
  {
   "cell_type": "code",
   "execution_count": 14,
   "id": "9793fd58",
   "metadata": {},
   "outputs": [
    {
     "data": {
      "text/plain": [
       "{'Caden': {'Age': 19, 'Interesting Fact': 'Played hockey in highschool'},\n",
       " 'Jacob P': {'Age': 21,\n",
       "  'Interesting Fact': 'Dr. Caton thought my last name was Keterson'},\n",
       " 'Finnian': {'Age': 21, 'Interesting Fact': 'Wrestled in highschool'},\n",
       " 'Genesis': {'Age': 20, 'Interesting Fact': 'Tore both ACLs'},\n",
       " 'Sam': {'Age': 23, 'Interesting Fact': 'Favorite color beige'},\n",
       " 'Proma': {'Age': 24,\n",
       "  'Interesting Fact': 'Learned classical dancing for 10 years'},\n",
       " 'Zach': {'Age': 20,\n",
       "  'Interesting Fact': 'On the track and field team for long-distance'},\n",
       " 'Jacob R': {'Age': 20,\n",
       "  'Interesting Fact': 'Plays classic rock on the guitar'},\n",
       " 'Brandon': {'Age': 23,\n",
       "  'Interesting Fact': 'Used play baseball in highschool and other leagues'},\n",
       " 'Gabe': {'Age': 23,\n",
       "  'Interesting Fact': 'A double major MIS and Accounting for undergrad'},\n",
       " 'Drew': {'Age': 49,\n",
       "  'Interesting Fact': 'Was in the Air Force and freed Keiko (Free Willy)'},\n",
       " 'Isaac': {'Age': 21,\n",
       "  'Interesting Fact': 'Traveling to Europe in the Summer 2022'},\n",
       " 'Kodjo': {'Age': 30, 'Interesting Fact': 'Wife is a soldier!'},\n",
       " 'Dr. Caton': {'Interesting Fact': 'I used to ride dirbikes'}}"
      ]
     },
     "execution_count": 14,
     "metadata": {},
     "output_type": "execute_result"
    }
   ],
   "source": [
    "dct[\"Dr. Caton\"] = {}\n",
    "dct[\"Dr. Caton\"][\"Interesting Fact\"] = \"I used to ride dirbikes\"\n",
    "dct"
   ]
  },
  {
   "cell_type": "code",
   "execution_count": 15,
   "id": "e9e23c39",
   "metadata": {},
   "outputs": [
    {
     "data": {
      "text/plain": [
       "{'Caden': {'Age': 19, 'Interesting Fact': 'Played hockey in highschool'},\n",
       " 'Jacob P': {'Age': 21,\n",
       "  'Interesting Fact': 'Dr. Caton thought my last name was Keterson'},\n",
       " 'Finnian': {'Age': 21, 'Interesting Fact': 'Wrestled in highschool'},\n",
       " 'Genesis': {'Age': 20, 'Interesting Fact': 'Tore both ACLs'},\n",
       " 'Sam': {'Age': 23, 'Interesting Fact': 'Favorite color beige'},\n",
       " 'Proma': {'Age': 24,\n",
       "  'Interesting Fact': 'Learned classical dancing for 10 years'},\n",
       " 'Zach': {'Age': 20,\n",
       "  'Interesting Fact': 'On the track and field team for long-distance'},\n",
       " 'Jacob R': {'Age': 20,\n",
       "  'Interesting Fact': 'Plays classic rock on the guitar'},\n",
       " 'Brandon': {'Age': 23,\n",
       "  'Interesting Fact': 'Used play baseball in highschool and other leagues'},\n",
       " 'Gabe': {'Age': 23,\n",
       "  'Interesting Fact': 'A double major MIS and Accounting for undergrad'},\n",
       " 'Drew': {'Age': 49,\n",
       "  'Interesting Fact': 'Was in the Air Force and freed Keiko (Free Willy)'},\n",
       " 'Isaac': {'Age': 21,\n",
       "  'Interesting Fact': 'Traveling to Europe in the Summer 2022'},\n",
       " 'Kodjo': {'Age': 30, 'Interesting Fact': 'Wife is a soldier!'},\n",
       " 'Dr. Caton': {'Interesting Fact': 'I used to ride dirbikes'},\n",
       " 'Joe Biden': {'Age': 78,\n",
       "  'Interesting Fact': 'Plays Mario Kart with his grandchildren',\n",
       "  'Job': 'President of the United States'}}"
      ]
     },
     "execution_count": 15,
     "metadata": {},
     "output_type": "execute_result"
    }
   ],
   "source": [
    "dct[\"Joe Biden\"] = {\"Age\":78,\n",
    "                    \"Interesting Fact\":\"Plays Mario Kart with his grandchildren\",\n",
    "                   \"Job\":\"President of the United States\"}\n",
    "dct"
   ]
  },
  {
   "cell_type": "code",
   "execution_count": 17,
   "id": "b42acd86",
   "metadata": {},
   "outputs": [
    {
     "data": {
      "text/html": [
       "<div>\n",
       "<style scoped>\n",
       "    .dataframe tbody tr th:only-of-type {\n",
       "        vertical-align: middle;\n",
       "    }\n",
       "\n",
       "    .dataframe tbody tr th {\n",
       "        vertical-align: top;\n",
       "    }\n",
       "\n",
       "    .dataframe thead th {\n",
       "        text-align: right;\n",
       "    }\n",
       "</style>\n",
       "<table border=\"1\" class=\"dataframe\">\n",
       "  <thead>\n",
       "    <tr style=\"text-align: right;\">\n",
       "      <th></th>\n",
       "      <th>Age</th>\n",
       "      <th>Interesting Fact</th>\n",
       "      <th>Job</th>\n",
       "    </tr>\n",
       "  </thead>\n",
       "  <tbody>\n",
       "    <tr>\n",
       "      <th>Caden</th>\n",
       "      <td>19</td>\n",
       "      <td>Played hockey in highschool</td>\n",
       "      <td>NaN</td>\n",
       "    </tr>\n",
       "    <tr>\n",
       "      <th>Jacob P</th>\n",
       "      <td>21</td>\n",
       "      <td>Dr. Caton thought my last name was Keterson</td>\n",
       "      <td>NaN</td>\n",
       "    </tr>\n",
       "    <tr>\n",
       "      <th>Finnian</th>\n",
       "      <td>21</td>\n",
       "      <td>Wrestled in highschool</td>\n",
       "      <td>NaN</td>\n",
       "    </tr>\n",
       "    <tr>\n",
       "      <th>Genesis</th>\n",
       "      <td>20</td>\n",
       "      <td>Tore both ACLs</td>\n",
       "      <td>NaN</td>\n",
       "    </tr>\n",
       "    <tr>\n",
       "      <th>Sam</th>\n",
       "      <td>23</td>\n",
       "      <td>Favorite color beige</td>\n",
       "      <td>NaN</td>\n",
       "    </tr>\n",
       "    <tr>\n",
       "      <th>Proma</th>\n",
       "      <td>24</td>\n",
       "      <td>Learned classical dancing for 10 years</td>\n",
       "      <td>NaN</td>\n",
       "    </tr>\n",
       "    <tr>\n",
       "      <th>Zach</th>\n",
       "      <td>20</td>\n",
       "      <td>On the track and field team for long-distance</td>\n",
       "      <td>NaN</td>\n",
       "    </tr>\n",
       "    <tr>\n",
       "      <th>Jacob R</th>\n",
       "      <td>20</td>\n",
       "      <td>Plays classic rock on the guitar</td>\n",
       "      <td>NaN</td>\n",
       "    </tr>\n",
       "    <tr>\n",
       "      <th>Brandon</th>\n",
       "      <td>23</td>\n",
       "      <td>Used play baseball in highschool and other lea...</td>\n",
       "      <td>NaN</td>\n",
       "    </tr>\n",
       "    <tr>\n",
       "      <th>Gabe</th>\n",
       "      <td>23</td>\n",
       "      <td>A double major MIS and Accounting for undergrad</td>\n",
       "      <td>NaN</td>\n",
       "    </tr>\n",
       "    <tr>\n",
       "      <th>Drew</th>\n",
       "      <td>49</td>\n",
       "      <td>Was in the Air Force and freed Keiko (Free Willy)</td>\n",
       "      <td>NaN</td>\n",
       "    </tr>\n",
       "    <tr>\n",
       "      <th>Isaac</th>\n",
       "      <td>21</td>\n",
       "      <td>Traveling to Europe in the Summer 2022</td>\n",
       "      <td>NaN</td>\n",
       "    </tr>\n",
       "    <tr>\n",
       "      <th>Kodjo</th>\n",
       "      <td>30</td>\n",
       "      <td>Wife is a soldier!</td>\n",
       "      <td>NaN</td>\n",
       "    </tr>\n",
       "    <tr>\n",
       "      <th>Dr. Caton</th>\n",
       "      <td>NaN</td>\n",
       "      <td>I used to ride dirbikes</td>\n",
       "      <td>NaN</td>\n",
       "    </tr>\n",
       "    <tr>\n",
       "      <th>Joe Biden</th>\n",
       "      <td>78</td>\n",
       "      <td>Plays Mario Kart with his grandchildren</td>\n",
       "      <td>President of the United States</td>\n",
       "    </tr>\n",
       "  </tbody>\n",
       "</table>\n",
       "</div>"
      ],
      "text/plain": [
       "           Age                                   Interesting Fact  \\\n",
       "Caden       19                        Played hockey in highschool   \n",
       "Jacob P     21        Dr. Caton thought my last name was Keterson   \n",
       "Finnian     21                             Wrestled in highschool   \n",
       "Genesis     20                                     Tore both ACLs   \n",
       "Sam         23                               Favorite color beige   \n",
       "Proma       24             Learned classical dancing for 10 years   \n",
       "Zach        20      On the track and field team for long-distance   \n",
       "Jacob R     20                   Plays classic rock on the guitar   \n",
       "Brandon     23  Used play baseball in highschool and other lea...   \n",
       "Gabe        23    A double major MIS and Accounting for undergrad   \n",
       "Drew        49  Was in the Air Force and freed Keiko (Free Willy)   \n",
       "Isaac       21             Traveling to Europe in the Summer 2022   \n",
       "Kodjo       30                                 Wife is a soldier!   \n",
       "Dr. Caton  NaN                            I used to ride dirbikes   \n",
       "Joe Biden   78            Plays Mario Kart with his grandchildren   \n",
       "\n",
       "                                      Job  \n",
       "Caden                                 NaN  \n",
       "Jacob P                               NaN  \n",
       "Finnian                               NaN  \n",
       "Genesis                               NaN  \n",
       "Sam                                   NaN  \n",
       "Proma                                 NaN  \n",
       "Zach                                  NaN  \n",
       "Jacob R                               NaN  \n",
       "Brandon                               NaN  \n",
       "Gabe                                  NaN  \n",
       "Drew                                  NaN  \n",
       "Isaac                                 NaN  \n",
       "Kodjo                                 NaN  \n",
       "Dr. Caton                             NaN  \n",
       "Joe Biden  President of the United States  "
      ]
     },
     "execution_count": 17,
     "metadata": {},
     "output_type": "execute_result"
    }
   ],
   "source": [
    "class_df = pd.DataFrame(dct).T\n",
    "class_df"
   ]
  },
  {
   "cell_type": "code",
   "execution_count": 19,
   "id": "342b58cd",
   "metadata": {},
   "outputs": [
    {
     "data": {
      "text/plain": [
       "Age                 object\n",
       "Interesting Fact    object\n",
       "Job                 object\n",
       "dtype: object"
      ]
     },
     "execution_count": 19,
     "metadata": {},
     "output_type": "execute_result"
    }
   ],
   "source": [
    "class_df.dtypes"
   ]
  },
  {
   "cell_type": "code",
   "execution_count": 26,
   "id": "c29abf10",
   "metadata": {},
   "outputs": [
    {
     "data": {
      "text/plain": [
       "{'William Nganje': {'Website': 'https://www.ndsu.edu/agecon/faculty/william_nganje/#c622350',\n",
       "  'Areas of Specialization': 'Risk management; financial analysis; economics of obesity, food safety and food terrorism; experimental economics; and consumer choice theory',\n",
       "  'Bio': 'NA'},\n",
       " 'David Bullock': {'Website': 'https://www.ndsu.edu/agecon/faculty/bullock/#c622728',\n",
       "  'Areas of Specialization': 'futures and options markets, over-the-counter derivatives, trading, risk management, agrifinance, Monte Carlo simulation, and Big Data',\n",
       "  'Bio': 'Dr. David W. Bullock is a Research Associate Professor affiliated with the Center for Trading and Risk at NDSU.  His research interests include futures and options markets, over-the-counter derivatives, trading, risk management, agrifinance, Monte Carlo simulation, and Big Data applications in agriculture.  His academic research in option portfolio theory has been published in both the Journal of Economics and Business and the International Review of Economics and Finance.  Additionally, he was the primary contributor behind the AgriBank Insights publication series which won a National AgriMarketing Association (NAMA) award for the best company publication in 2016. Before coming to NDSU in January 2018, Dr. Bullock held numerous positions for over 25 years in the government and private sectors including the Senior Economist at AgriBank FCB – the regional Farm Credit System funding bank for the Upper Midwest region, Director of Research and Senior Foods Economist at Fortune 500 commodity risk management firm INTL FCStone Inc., the Senior Dairy Analyst at Informa Economics, a Risk Management Specialist with the Minnesota Department of Agriculture, and the Senior Economist at the Minneapolis Grain Exchange. David began his academic career as an Assistant Professor and Extension Marketing Economist at Montana State University after graduating from Iowa State University with a Ph.D. in agricultural economics with fields in agricultural price analysis and econometrics in 1989.  Prior to entering ISU, he received bachelor’s (1982) and master’s (1984) degrees in agricultural economics from Northwest Missouri State University. Dr. Bullock is originally from the small northwestern Missouri farming community of Lathrop which is located 40 miles north of the Kansas City metropolitan area.  While in high school, he served as a regional state Vice-President in the Future Farmers of America (FFA) during his senior year.'},\n",
       " 'James Caton': {'Website': 'https://www.ndsu.edu/centers/pcpe/about/directory/james_caton/',\n",
       "  'Areas of Specialization': 'Entrepreneurship, Institutions, Macroeconomics, Computation',\n",
       "  'Bio': \"James Caton is a faculty fellow at the NDSU Center for the Study of Public Choice and Private Enterprise (PCPE) and an assistant professor in the NDSU Department of Agribusiness and Applied Economics. He teaches undergraduate courses in the areas of macroeconomics, international trade, and computation. He specializes in research related to entrepreneurship, agent-based computational economics, market process theory, and monetary economics. His research has been published in the Southern Economic Journal, Erasmus Journal for Philosophy and Economics, Journal of Entrepreneurship and Public Policy and other academic publications. He co-edited Macroeconomics, a two volume set of essays and primary sources that represent the core of macroeconomic thought. He is also a regular contributor to the American Institute for Economic Research's Sound Money Project, which conducts research and promotes awareness about monetary stability and financial privacy. He resides in Fargo with his wife, Ingrid, and their children.\"},\n",
       " 'David Englund': {'Website': 'https://www.ndsu.edu/agecon/faculty/englund/#c622903',\n",
       "  'Areas of Specialization': 'Teaches Economic Principles, Led NDSU NAMA to National Champions',\n",
       "  'Bio': 'David Englund is a lecturer in the department.  He came to the department with 16 years of teaching experience, having taught Principles of Microeconomics, Principles of Macroeconomics, Money and Banking, Consumer Behavior, Selected Topics in Business, and several other classes.  He also had 10 years’ experience advising student NAMA chapters, having been awarded the Outstanding Advisor of the Year for a Developing Chapter in 2002, and the Outstanding Advisor of the Year award in 2009.\\nDavid primarily teaches Survey of Economics, Principles of Microeconomics, Skills for Academic Success, Agricultural Marketing, and NAMA (co-teaches).  He joined the NAMA team in the 2014-2015 school year as a co-advisor and helped coach the student team to a 3rd place finish in the national student marketing plan competition at the national conference.\\nSome of David’s outside interests are jogging, photography, and writing fiction novels.  His latest release, Camouflaged Encounters has received positive reviews.'},\n",
       " 'Erik Hanson': {'Website': 'https://www.ndsu.edu/agecon/faculty/hanson/#c622905',\n",
       "  'Areas of Specialization': 'Ag Management, Ag Finance',\n",
       "  'Bio': 'Erik Hanson is an Assistant Professor in the Department of Agricultural and Applied Economics. He teaches courses on agribusiness management and agricultural finance. Erik completed his Ph.D. at the University of Minnesota in 2016. Prior to that, Erik completed a master’s degree at the University of Illinois (2013) and a bachelor’s degree at Minnesota State University Moorhead (2011).'},\n",
       " 'Ronald Haugen': {'Website': 'https://www.ndsu.edu/agecon/about_us/faculty/ron_haugen/#c654700',\n",
       "  'Areas of Specialization': 'Farm management including: crop budgets, crop insurance, farm programs, custom farm rates, land rents, machinery economics, commodity price projections and agricultural income taxes. ',\n",
       "  'Bio': 'Ron Haugen is an Extension Farm Management Specialist. He has been in the department since 1991. He computes the North Dakota Land Valuation Model.'},\n",
       " 'Robert Hearne': {'Website': 'https://www.ndsu.edu/agecon/faculty/hearne/#c622909',\n",
       "  'Areas of Specialization': 'water resources management institutions, water markets, protected area management, and the economic valuation of environmental goods and services.',\n",
       "  'Bio': 'Dr. Bob Hearne has been in the Department of Agribusiness and Applied Economics since 2002. He has professional experience in Europe, Asia, Latin America, and Asia.'},\n",
       " 'Jeremy Jackson': {'Website': 'https://www.ndsu.edu/centers/pcpe/about/directory/jeremy_jackson/',\n",
       "  'Areas of Specialization': 'public choice and the political economy; the social consequences of economic freedom; happiness and well-being; and philanthropy and nonprofits.',\n",
       "  'Bio': ' Jeremy Jackson is director of the Center for the Study of Public Choice and Private Enterprise, scholar at the Challey Institute for Global Innovation and Growth, and professor of economics in the Department of Agribusiness and Applied Economics at North Dakota State University.. He teaches undergraduate and graduate courses in the areas of microeconomics, public economics, and game theory and strategy. His research has been published in Applied Economics, The Independent Review, Public Choice, Contemporary Economic Policy, Journal of Happiness Studies, and other refereed and non-refereed sources. '},\n",
       " 'Prithviraj Lakkakula': {'Website': 'https://www.ndsu.edu/agecon/faculty/prithviraj_lakkakula/#c623441',\n",
       "  'Areas of Specialization': 'Blockchain, Agricultural Economics',\n",
       "  'Bio': ''},\n",
       " 'Siew Lim': {'Website': 'https://www.ndsu.edu/agecon/faculty/lim/#c624837',\n",
       "  'Areas of Specialization': 'applied microeconomics, production economics, industrial organization, transportation and regional development, transportation and  regional development',\n",
       "  'Bio': 'Siew Hoon Lim is an associate professor of economics.'},\n",
       " 'Raymond March': {'Website': 'https://www.ndsu.edu/centers/pcpe/about/directory/raymond_march/',\n",
       "  'Areas of Specialization': 'public and private provision and governance of health care in the United States, particularly in pharmaceutical markets',\n",
       "  'Bio': 'Raymond March is a scholar at the Challey Institute for Global Innovation and Growth with the Center for the Study of Public Choice and Private Enterprise and an assistant professor of economics in the Department of Agribusiness and Applied Economics at North Dakota State University. He teaches courses in microeconomics, the history of economic thought, and health economics.'},\n",
       " 'Dragan Miljkovic': {'Website': 'https://www.ndsu.edu/agecon/faculty/miljkovic/#c625001',\n",
       "  'Areas of Specialization': 'agricultural price analysis, international economics, and agricultural and food policy including human nutrition, obesity, and food safety',\n",
       "  'Bio': 'Dragan Miljkovic is professor of agricultural economics in the Department of Agribusiness & Applied Economics at North Dakota State University. Dr. Miljkovic holds B.S. and M.S. degrees in Economics from the University of Belgrade, and Ph.D. in Agricultural Economics from the University of Illinois at Urbana-Champaign. Dr. Miljkovic authored over sixty peer reviewed journal articles and book chapters, and edited three books. He has more than 60 selected and invited presentations at various domestic and international conferences and universities in North America, Europe, New Zealand, and Australia. Dr. Miljkovic teaches undergraduate class in agricultural prices and graduate advanced econometrics class. Dr. Miljkovic is the Founding Editor and Editor-In-Chief of the Journal of International Agricultural Trade and Development (JIATD), and has also served as the Associate Editor of the Journal of Agricultural and Applied Economics (JAAE). He is an active member of numerous professional organizations and associations including the International Agricultural Trade Research Consortium (IATRC), the AAEA, the SAEA, WAEA, NAREA, AARES, and regional projects NCCC-134, WERA-72, and S-1016.'},\n",
       " 'Frayne Olson': {'Website': 'https://www.ndsu.edu/agecon/faculty/olson/#c625016',\n",
       "  'Areas of Specialization': ' crop marketing strategies, crop outlook and price analysis, and the economics of crop contracting',\n",
       "  'Bio': 'Dr. Frayne Olson is the Crop Economist/Marketing Specialist with the North Dakota State University Extension and Director of the Quentin Burdick Center for Cooperatives.  Dr. Olson conducts educational programs.  As Director of the Center for Cooperatives, he teaches a senior level course on cooperative business management and coordinates the Center’s research and outreach activities.  Dr. Olson received his PhD from the University of Missouri in Agricultural Economics, and his M.S. and B.S. in Agricultural Economics from North Dakota State University.'},\n",
       " 'Bryon Parman': {'Website': 'https://www.ndsu.edu/agecon/faculty/parman/#c654590',\n",
       "  'Areas of Specialization': '',\n",
       "  'Bio': ''},\n",
       " 'Tim Petry': {'Website': 'https://www.ndsu.edu/agecon/faculty/petry/#c625018',\n",
       "  'Areas of Specialization': 'Price Forecasting',\n",
       "  'Bio': 'Tim Petry was raised on a livestock ranch in Northwestern North Dakota. He graduated from North Dakota State University with a major in Agricultural Economics in 1969 and served two years in the US Army. Petry returned to NDSU and completed a Master’s Degree in Agricultural Economics with an agricultural marketing emphasis in 1973. He was a member of the teaching/research staff in the Department of Agricultural Economics for 30 years. During his teaching tenure, he taught many marketing courses including several livestock marketing classes, and a very popular introduction to agricultural marketing class. In 2002, Petry retired from teaching and joined the NDSU Extension Service as a Livestock Marketing Economist. He travels extensively in North Dakota and the surrounding area conducting meetings on livestock marketing educational topics. Petry writes a popular monthly “Market Advisor” column on current livestock marketing issues. Copies of his presentations, columns, and other current information affecting the livestock industry are available on his web site: www.ag.ndsu.edu/livestockeconomics. Tim Petry and his wife Shirley have three grown daughters.'},\n",
       " 'Xudong Rao': {'Website': 'https://www.ndsu.edu/agecon/faculty/rao/#c629066',\n",
       "  'Areas of Specialization': 'Farm and Agribusiness Management, Risk Analysis, Efficiency and Productivity, Technology Adoption, Food and Agricultural Policy, International Agricultural Development',\n",
       "  'Bio': 'Rao is an assistant professor of agricultural economics at NDSU'},\n",
       " 'Veeshan Rayamajhee': {'Website': 'https://www.ndsu.edu/centers/pcpe/about/directory/veeshan_rayamajhee/',\n",
       "  'Areas of Specialization': 'Public Choice and New Institutional Economics',\n",
       "  'Bio': 'Veeshan Rayamajhee is a scholar at the Challey Institute for Global Innovation and Growth with the Center for the Study of Public Choice and Private Enterprise and an assistant professor of economics in the Department of Agribusiness and Applied Economics at North Dakota State University. His research combines insights from Public Choice and New Institutional Economics to understand individual and collective responses to covariate shocks. He uses a range of empirical tools to study issues related to disasters, climate adaptation, food and energy security, and environmental externalities. His research has appeared in peer-reviewed journals such as Journal of Institutional Economics, Disasters, Economics of Disasters and Climate Change, Journal of International Development, Food Security, and Renewable Energy. For updates on his research, please visit: veeshan.rayamajhee.com/research'},\n",
       " 'David Ripplinger': {'Website': 'https://www.ndsu.edu/agecon/faculty/ripplinger/#c629078',\n",
       "  'Areas of Specialization': 'Bioenergy',\n",
       "  'Bio': 'David Ripplinger is an Associate Professor in the Department of Agribusiness and Applied Economics at North Dakota State University and bioproducts/bioenergy economics specialist with NDSU Extension. In these roles, David conducts research and provides support to farmers and the bioenergy industry. '},\n",
       " 'David Roberts': {'Website': 'https://www.ndsu.edu/agecon/faculty/roberts/#c629137',\n",
       "  'Areas of Specialization': 'agricultural production methods on the environment and natural resources',\n",
       "  'Bio': 'David Roberts is an Assistant Professor of Agribusiness and Applied Economics at North Dakota State University. His research focuses on the impacts of agricultural production methods on the environment and natural resources. David is particularly interested in the economics of precision agriculture technologies and the response of cropping patterns and land use change to emerging biofuels policy at the Federal level. His doctoral dissertation research investigated the relative profitability of several different mid-season optimal nitrogen rate prediction systems for winter wheat in Oklahoma, and investigated how incorporation of uncertainty in estimated and predicted production functions can increase the profitability of the prediction systems. David’s MS thesis investigated the suitability of water quality trading as a policy instrument for dealing with nutrient runoff from agricultural operations in Tennessee. Results showed conditions in polluted watersheds in Tennessee likely will not support robust trading in water quality allowances or offsets.'},\n",
       " 'Kristi Schweiss': {'Website': 'https://www.ndsu.edu/agecon/faculty/schweiss/#c629139',\n",
       "  'Areas of Specialization': '',\n",
       "  'Bio': 'Assistant Director, QBCC'},\n",
       " 'Anupa Sharma': {'Website': 'https://www.ndsu.edu/agecon/faculty/sharma/#c629150',\n",
       "  'Areas of Specialization': 'International Trade Agreements, Trade Patterns, Distance and Missing Globalization, International Trade and Development',\n",
       "  'Bio': 'Anupa Sharma is an Assistant Professor in the Department of Agribusiness and Applied Economics at North Dakota State University. She also serves as the Assistant Director for the Center for Agricultural Policy and Trade Studies (CAPTS). She develops quantitative methods to address issues pertinent to International Trade.'},\n",
       " 'Cheryl Wachenheim': {'Website': 'https://www.ndsu.edu/agecon/faculty/wachenheim/#c629162',\n",
       "  'Bio': 'Cheryl Wachenheim is a Professor in the Department of Agribusiness and Applied Economics at North Dakota State University. She holds an undergraduate degree in animal sciences from the University of Minnesota, and a Master’s and doctorate in Agricultural Economics and an MBA from Michigan State University. She began her academic career at Illinois State University in Central Illinois and has been on the faculty at NDSU since 1998.  She regularly teaches classes in economics, agricultural sales, agricultural finance, agricultural marketing, and strategic marketing and management.  Research interests focus on eliciting perceptions and valuations from consumers, firms, students and other stakeholders and decision makers.  Analysis then allows for identification of high-value marketing and management strategies.  Cheryl has been a member of the MN Army National Guard since 1998. She is currently the Commander of the 204th Area Medical Support Company in Cottage Grove, Minnesota.',\n",
       "  'Areas of Specialization': ' eliciting perceptions and valuations from consumers, firms, students and other stakeholders and decision makers'},\n",
       " 'William Wilson': {'Website': 'https://www.ndsu.edu/agecon/faculty/wilson/#c629178',\n",
       "  'Bio': 'Dr. William W. Wilson received his PhD in Agricultural Economics from the University of Manitoba in 1980. Since then he has been a Professor at North Dakota State University in Agribusiness and Applied Economics with periodic sabbaticals at Stanford University. Recently, he was named as a University Distinguished Professor at NDSU which an honorary position is, and a great achievement.  And, in 2016 he was named the CHS Chair in Risk Management and Trading at NDSU which is an endowed position. In 2017 he was awarded the AAEA 2016 Distinguished Teaching Award (Chicago July 2017) His focus is risk and strategy as applied to agriculture and agribusiness with a particular focus on agtechnology development and commercialization, procurement, transportation and logistics, international marketing and competition. He teaches classes in Commodity Trading, Risk and AgriBusiness Strategy and has taught his Risk Class at Purdue University; and is a visiting scholar at Melbourne University where he visits 2 times/year and advises PhD students in risk and agbiotechnology. Finally, he has now created the NDSU Commodity Trading Room which is a state of art facility for teaching and research in commodity marketing, logistics and trading. He routinely has projects and/or overseas clients and travels internationally 1 week per month.  He led a project for the United States on privatization of the grain marketing system in Russia in the early 1990’s. He currently has projects and/or clients in US, Russia, Ukraine, Mexico, Argentina and Australia. He regularly advises a number of large Agribusiness firms, several major railroads, and several major food and beverage companies and/or governments in other countries. He served as a Board member of the Minneapolis Grain Exchange for 12 years, on the FGIS Advisory Board, and currently serves as a Board member of several regional firms in agtechnology and venture capital (AMITY, BUSHEL), in addition to NCH Capital (New York City which is one of the largest investors in world agriculture). He regularly consults with major agribusiness firms on topics related to above and has worked extensively in the following industries: agtechnology,  logistics, procurement strategy, railroads, barges, ocean shipping, elevators (shuttle development), and processed products (malting and beer, durum and pasta, wheat and bread). He was recognized as one of the top 10 Agricultural Economists in 1995 and more recently as one of the top 1% of agricultural economists by RePEc (Research Papers in Economics). Finally, he has students who are in senior positions in a number of the large agribusinesses including commodity companies, railroads and food and beverage companies.',\n",
       "  'Areas of Specialization': 'commodity marketing, logistics and trading'}}"
      ]
     },
     "execution_count": 26,
     "metadata": {},
     "output_type": "execute_result"
    }
   ],
   "source": [
    "faculty_dict = {\"William Nganje\":{\"Website\":\"https://www.ndsu.edu/agecon/faculty/william_nganje/#c622350\", \n",
    "                                     \"Areas of Specialization\":\"Risk management; financial analysis; economics of obesity, food safety and food terrorism; experimental economics; and consumer choice theory\",\n",
    "                                     \"Bio\":\"NA\"},\n",
    "                 \"David Bullock\": {\"Website\":\"https://www.ndsu.edu/agecon/faculty/bullock/#c622728\",\n",
    "                                    \"Areas of Specialization\": \"futures and options markets, over-the-counter derivatives, trading, risk management, agrifinance, Monte Carlo simulation, and Big Data\",\n",
    "                                    \"Bio\":\"Dr. David W. Bullock is a Research Associate Professor affiliated with the Center for Trading and Risk at NDSU.  His research interests include futures and options markets, over-the-counter derivatives, trading, risk management, agrifinance, Monte Carlo simulation, and Big Data applications in agriculture.  His academic research in option portfolio theory has been published in both the Journal of Economics and Business and the International Review of Economics and Finance.  Additionally, he was the primary contributor behind the AgriBank Insights publication series which won a National AgriMarketing Association (NAMA) award for the best company publication in 2016. Before coming to NDSU in January 2018, Dr. Bullock held numerous positions for over 25 years in the government and private sectors including the Senior Economist at AgriBank FCB – the regional Farm Credit System funding bank for the Upper Midwest region, Director of Research and Senior Foods Economist at Fortune 500 commodity risk management firm INTL FCStone Inc., the Senior Dairy Analyst at Informa Economics, a Risk Management Specialist with the Minnesota Department of Agriculture, and the Senior Economist at the Minneapolis Grain Exchange. David began his academic career as an Assistant Professor and Extension Marketing Economist at Montana State University after graduating from Iowa State University with a Ph.D. in agricultural economics with fields in agricultural price analysis and econometrics in 1989.  Prior to entering ISU, he received bachelor’s (1982) and master’s (1984) degrees in agricultural economics from Northwest Missouri State University. Dr. Bullock is originally from the small northwestern Missouri farming community of Lathrop which is located 40 miles north of the Kansas City metropolitan area.  While in high school, he served as a regional state Vice-President in the Future Farmers of America (FFA) during his senior year.\"},\n",
    "                 \"James Caton\": {\"Website\":\"https://www.ndsu.edu/centers/pcpe/about/directory/james_caton/\",\n",
    "                                 \"Areas of Specialization\": \"Entrepreneurship, Institutions, Macroeconomics, Computation\",\n",
    "                                 \"Bio\":\"James Caton is a faculty fellow at the NDSU Center for the Study of Public Choice and Private Enterprise (PCPE) and an assistant professor in the NDSU Department of Agribusiness and Applied Economics. He teaches undergraduate courses in the areas of macroeconomics, international trade, and computation. He specializes in research related to entrepreneurship, agent-based computational economics, market process theory, and monetary economics. His research has been published in the Southern Economic Journal, Erasmus Journal for Philosophy and Economics, Journal of Entrepreneurship and Public Policy and other academic publications. He co-edited Macroeconomics, a two volume set of essays and primary sources that represent the core of macroeconomic thought. He is also a regular contributor to the American Institute for Economic Research's Sound Money Project, which conducts research and promotes awareness about monetary stability and financial privacy. He resides in Fargo with his wife, Ingrid, and their children.\"},\n",
    "                 \"David Englund\": {\"Website\":\"https://www.ndsu.edu/agecon/faculty/englund/#c622903\",\n",
    "                                 \"Areas of Specialization\": \"Teaches Economic Principles, Led NDSU NAMA to National Champions\",\n",
    "                                 \"Bio\":\"David Englund is a lecturer in the department.  He came to the department with 16 years of teaching experience, having taught Principles of Microeconomics, Principles of Macroeconomics, Money and Banking, Consumer Behavior, Selected Topics in Business, and several other classes.  He also had 10 years’ experience advising student NAMA chapters, having been awarded the Outstanding Advisor of the Year for a Developing Chapter in 2002, and the Outstanding Advisor of the Year award in 2009.\\nDavid primarily teaches Survey of Economics, Principles of Microeconomics, Skills for Academic Success, Agricultural Marketing, and NAMA (co-teaches).  He joined the NAMA team in the 2014-2015 school year as a co-advisor and helped coach the student team to a 3rd place finish in the national student marketing plan competition at the national conference.\\nSome of David’s outside interests are jogging, photography, and writing fiction novels.  His latest release, Camouflaged Encounters has received positive reviews.\"},\n",
    "                 \"Erik Hanson\": {\"Website\":\"https://www.ndsu.edu/agecon/faculty/hanson/#c622905\",\n",
    "                                 \"Areas of Specialization\": \"Ag Management, Ag Finance\",\n",
    "                                 \"Bio\":\"Erik Hanson is an Assistant Professor in the Department of Agricultural and Applied Economics. He teaches courses on agribusiness management and agricultural finance. Erik completed his Ph.D. at the University of Minnesota in 2016. Prior to that, Erik completed a master’s degree at the University of Illinois (2013) and a bachelor’s degree at Minnesota State University Moorhead (2011).\"},\n",
    "                 \"Ronald Haugen\": {\"Website\":\"https://www.ndsu.edu/agecon/about_us/faculty/ron_haugen/#c654700\",\n",
    "                                 \"Areas of Specialization\": \"Farm management including: crop budgets, crop insurance, farm programs, custom farm rates, land rents, machinery economics, commodity price projections and agricultural income taxes. \",\n",
    "                                 \"Bio\":\"Ron Haugen is an Extension Farm Management Specialist. He has been in the department since 1991. He computes the North Dakota Land Valuation Model.\"},\n",
    "                 \"Robert Hearne\": {\"Website\":\"https://www.ndsu.edu/agecon/faculty/hearne/#c622909\",\n",
    "                                 \"Areas of Specialization\": \"water resources management institutions, water markets, protected area management, and the economic valuation of environmental goods and services.\",\n",
    "                                 \"Bio\":\"Dr. Bob Hearne has been in the Department of Agribusiness and Applied Economics since 2002. He has professional experience in Europe, Asia, Latin America, and Asia.\"},\n",
    "                 \"Jeremy Jackson\": {\"Website\":\"https://www.ndsu.edu/centers/pcpe/about/directory/jeremy_jackson/\",\n",
    "                                 \"Areas of Specialization\": \"public choice and the political economy; the social consequences of economic freedom; happiness and well-being; and philanthropy and nonprofits.\",\n",
    "                                 \"Bio\":\" Jeremy Jackson is director of the Center for the Study of Public Choice and Private Enterprise, scholar at the Challey Institute for Global Innovation and Growth, and professor of economics in the Department of Agribusiness and Applied Economics at North Dakota State University.. He teaches undergraduate and graduate courses in the areas of microeconomics, public economics, and game theory and strategy. His research has been published in Applied Economics, The Independent Review, Public Choice, Contemporary Economic Policy, Journal of Happiness Studies, and other refereed and non-refereed sources. \"},\n",
    "                \"Prithviraj Lakkakula\":{\"Website\":\"https://www.ndsu.edu/agecon/faculty/prithviraj_lakkakula/#c623441\",\n",
    "                                        \"Areas of Specialization\":\"Blockchain, Agricultural Economics\",\n",
    "                                        \"Bio\":\"\"},\n",
    "                \"Siew Lim\": {\"Website\":\"https://www.ndsu.edu/agecon/faculty/lim/#c624837\",\n",
    "                                 \"Areas of Specialization\": \"applied microeconomics, production economics, industrial organization, transportation and regional development, transportation and  regional development\",\n",
    "                                 \"Bio\":\"Siew Hoon Lim is an associate professor of economics.\"},\n",
    "                 \"Raymond March\": {\"Website\":\"https://www.ndsu.edu/centers/pcpe/about/directory/raymond_march/\",\n",
    "                                 \"Areas of Specialization\": \"public and private provision and governance of health care in the United States, particularly in pharmaceutical markets\",\n",
    "                                 \"Bio\":\"Raymond March is a scholar at the Challey Institute for Global Innovation and Growth with the Center for the Study of Public Choice and Private Enterprise and an assistant professor of economics in the Department of Agribusiness and Applied Economics at North Dakota State University. He teaches courses in microeconomics, the history of economic thought, and health economics.\"},\n",
    "                 \"Dragan Miljkovic\": {\"Website\":\"https://www.ndsu.edu/agecon/faculty/miljkovic/#c625001\",\n",
    "                                 \"Areas of Specialization\": \"agricultural price analysis, international economics, and agricultural and food policy including human nutrition, obesity, and food safety\",\n",
    "                                 \"Bio\":\"Dragan Miljkovic is professor of agricultural economics in the Department of Agribusiness & Applied Economics at North Dakota State University. Dr. Miljkovic holds B.S. and M.S. degrees in Economics from the University of Belgrade, and Ph.D. in Agricultural Economics from the University of Illinois at Urbana-Champaign. Dr. Miljkovic authored over sixty peer reviewed journal articles and book chapters, and edited three books. He has more than 60 selected and invited presentations at various domestic and international conferences and universities in North America, Europe, New Zealand, and Australia. Dr. Miljkovic teaches undergraduate class in agricultural prices and graduate advanced econometrics class. Dr. Miljkovic is the Founding Editor and Editor-In-Chief of the Journal of International Agricultural Trade and Development (JIATD), and has also served as the Associate Editor of the Journal of Agricultural and Applied Economics (JAAE). He is an active member of numerous professional organizations and associations including the International Agricultural Trade Research Consortium (IATRC), the AAEA, the SAEA, WAEA, NAREA, AARES, and regional projects NCCC-134, WERA-72, and S-1016.\"},\n",
    "                 \"Frayne Olson\": {\"Website\":\"https://www.ndsu.edu/agecon/faculty/olson/#c625016\",\n",
    "                                 \"Areas of Specialization\": \" crop marketing strategies, crop outlook and price analysis, and the economics of crop contracting\",\n",
    "                                 \"Bio\":\"Dr. Frayne Olson is the Crop Economist/Marketing Specialist with the North Dakota State University Extension and Director of the Quentin Burdick Center for Cooperatives.  Dr. Olson conducts educational programs.  As Director of the Center for Cooperatives, he teaches a senior level course on cooperative business management and coordinates the Center’s research and outreach activities.  Dr. Olson received his PhD from the University of Missouri in Agricultural Economics, and his M.S. and B.S. in Agricultural Economics from North Dakota State University.\"},\n",
    "                 \"Bryon Parman\": {\"Website\":\"https://www.ndsu.edu/agecon/faculty/parman/#c654590\",\n",
    "                                 \"Areas of Specialization\": \"\",\n",
    "                                 \"Bio\":\"\"},\n",
    "                 \"Tim Petry\": {\"Website\":\"https://www.ndsu.edu/agecon/faculty/petry/#c625018\",\n",
    "                                 \"Areas of Specialization\": \"Price Forecasting\",\n",
    "                                 \"Bio\":\"Tim Petry was raised on a livestock ranch in Northwestern North Dakota. He graduated from North Dakota State University with a major in Agricultural Economics in 1969 and served two years in the US Army. Petry returned to NDSU and completed a Master’s Degree in Agricultural Economics with an agricultural marketing emphasis in 1973. He was a member of the teaching/research staff in the Department of Agricultural Economics for 30 years. During his teaching tenure, he taught many marketing courses including several livestock marketing classes, and a very popular introduction to agricultural marketing class. In 2002, Petry retired from teaching and joined the NDSU Extension Service as a Livestock Marketing Economist. He travels extensively in North Dakota and the surrounding area conducting meetings on livestock marketing educational topics. Petry writes a popular monthly “Market Advisor” column on current livestock marketing issues. Copies of his presentations, columns, and other current information affecting the livestock industry are available on his web site: www.ag.ndsu.edu/livestockeconomics. Tim Petry and his wife Shirley have three grown daughters.\"},\n",
    "                 \"Xudong Rao\": {\"Website\":\"https://www.ndsu.edu/agecon/faculty/rao/#c629066\",\n",
    "                                 \"Areas of Specialization\": \"Farm and Agribusiness Management, Risk Analysis, Efficiency and Productivity, Technology Adoption, Food and Agricultural Policy, International Agricultural Development\",\n",
    "                                 \"Bio\":\"Rao is an assistant professor of agricultural economics at NDSU\"},\n",
    "                 \"Veeshan Rayamajhee\": {\"Website\":\"https://www.ndsu.edu/centers/pcpe/about/directory/veeshan_rayamajhee/\",\n",
    "                                 \"Areas of Specialization\": \"Public Choice and New Institutional Economics\",\n",
    "                                 \"Bio\":\"Veeshan Rayamajhee is a scholar at the Challey Institute for Global Innovation and Growth with the Center for the Study of Public Choice and Private Enterprise and an assistant professor of economics in the Department of Agribusiness and Applied Economics at North Dakota State University. His research combines insights from Public Choice and New Institutional Economics to understand individual and collective responses to covariate shocks. He uses a range of empirical tools to study issues related to disasters, climate adaptation, food and energy security, and environmental externalities. His research has appeared in peer-reviewed journals such as Journal of Institutional Economics, Disasters, Economics of Disasters and Climate Change, Journal of International Development, Food Security, and Renewable Energy. For updates on his research, please visit: veeshan.rayamajhee.com/research\"},\n",
    "                 \"David Ripplinger\": {\"Website\":\"https://www.ndsu.edu/agecon/faculty/ripplinger/#c629078\",\n",
    "                                 \"Areas of Specialization\": \"Bioenergy\",\n",
    "                                 \"Bio\":\"David Ripplinger is an Associate Professor in the Department of Agribusiness and Applied Economics at North Dakota State University and bioproducts/bioenergy economics specialist with NDSU Extension. In these roles, David conducts research and provides support to farmers and the bioenergy industry. \"},\n",
    "                 \"David Roberts\": {\"Website\":\"https://www.ndsu.edu/agecon/faculty/roberts/#c629137\",\n",
    "                                 \"Areas of Specialization\": \"agricultural production methods on the environment and natural resources\",\n",
    "                                 \"Bio\":\"David Roberts is an Assistant Professor of Agribusiness and Applied Economics at North Dakota State University. His research focuses on the impacts of agricultural production methods on the environment and natural resources. David is particularly interested in the economics of precision agriculture technologies and the response of cropping patterns and land use change to emerging biofuels policy at the Federal level. His doctoral dissertation research investigated the relative profitability of several different mid-season optimal nitrogen rate prediction systems for winter wheat in Oklahoma, and investigated how incorporation of uncertainty in estimated and predicted production functions can increase the profitability of the prediction systems. David’s MS thesis investigated the suitability of water quality trading as a policy instrument for dealing with nutrient runoff from agricultural operations in Tennessee. Results showed conditions in polluted watersheds in Tennessee likely will not support robust trading in water quality allowances or offsets.\"},\n",
    "                 \"Kristi Schweiss\": {\"Website\":\"https://www.ndsu.edu/agecon/faculty/schweiss/#c629139\",\n",
    "                                 \"Areas of Specialization\": \"\",\n",
    "                                 \"Bio\":\"Assistant Director, QBCC\"},\n",
    "                 \"Anupa Sharma\": {\"Website\":\"https://www.ndsu.edu/agecon/faculty/sharma/#c629150\",\n",
    "                                 \"Areas of Specialization\": \"International Trade Agreements, Trade Patterns, Distance and Missing Globalization, International Trade and Development\",\n",
    "                                 \"Bio\":\"Anupa Sharma is an Assistant Professor in the Department of Agribusiness and Applied Economics at North Dakota State University. She also serves as the Assistant Director for the Center for Agricultural Policy and Trade Studies (CAPTS). She develops quantitative methods to address issues pertinent to International Trade.\"},\n",
    "                 \"Cheryl Wachenheim\": {\"Website\":\"https://www.ndsu.edu/agecon/faculty/wachenheim/#c629162\",\n",
    "                                 \"Bio\": \"Cheryl Wachenheim is a Professor in the Department of Agribusiness and Applied Economics at North Dakota State University. She holds an undergraduate degree in animal sciences from the University of Minnesota, and a Master’s and doctorate in Agricultural Economics and an MBA from Michigan State University. She began her academic career at Illinois State University in Central Illinois and has been on the faculty at NDSU since 1998.  She regularly teaches classes in economics, agricultural sales, agricultural finance, agricultural marketing, and strategic marketing and management.  Research interests focus on eliciting perceptions and valuations from consumers, firms, students and other stakeholders and decision makers.  Analysis then allows for identification of high-value marketing and management strategies.  Cheryl has been a member of the MN Army National Guard since 1998. She is currently the Commander of the 204th Area Medical Support Company in Cottage Grove, Minnesota.\",\n",
    "                                 \"Areas of Specialization\":\" eliciting perceptions and valuations from consumers, firms, students and other stakeholders and decision makers\"},\n",
    "                 \"William Wilson\": {\"Website\":\"https://www.ndsu.edu/agecon/faculty/wilson/#c629178\",\n",
    "                                 \"Bio\": \"Dr. William W. Wilson received his PhD in Agricultural Economics from the University of Manitoba in 1980. Since then he has been a Professor at North Dakota State University in Agribusiness and Applied Economics with periodic sabbaticals at Stanford University. Recently, he was named as a University Distinguished Professor at NDSU which an honorary position is, and a great achievement.  And, in 2016 he was named the CHS Chair in Risk Management and Trading at NDSU which is an endowed position. In 2017 he was awarded the AAEA 2016 Distinguished Teaching Award (Chicago July 2017) His focus is risk and strategy as applied to agriculture and agribusiness with a particular focus on agtechnology development and commercialization, procurement, transportation and logistics, international marketing and competition. He teaches classes in Commodity Trading, Risk and AgriBusiness Strategy and has taught his Risk Class at Purdue University; and is a visiting scholar at Melbourne University where he visits 2 times/year and advises PhD students in risk and agbiotechnology. Finally, he has now created the NDSU Commodity Trading Room which is a state of art facility for teaching and research in commodity marketing, logistics and trading. He routinely has projects and/or overseas clients and travels internationally 1 week per month.  He led a project for the United States on privatization of the grain marketing system in Russia in the early 1990’s. He currently has projects and/or clients in US, Russia, Ukraine, Mexico, Argentina and Australia. He regularly advises a number of large Agribusiness firms, several major railroads, and several major food and beverage companies and/or governments in other countries. He served as a Board member of the Minneapolis Grain Exchange for 12 years, on the FGIS Advisory Board, and currently serves as a Board member of several regional firms in agtechnology and venture capital (AMITY, BUSHEL), in addition to NCH Capital (New York City which is one of the largest investors in world agriculture). He regularly consults with major agribusiness firms on topics related to above and has worked extensively in the following industries: agtechnology,  logistics, procurement strategy, railroads, barges, ocean shipping, elevators (shuttle development), and processed products (malting and beer, durum and pasta, wheat and bread). He was recognized as one of the top 10 Agricultural Economists in 1995 and more recently as one of the top 1% of agricultural economists by RePEc (Research Papers in Economics). Finally, he has students who are in senior positions in a number of the large agribusinesses including commodity companies, railroads and food and beverage companies.\",\n",
    "                                 \"Areas of Specialization\":\"commodity marketing, logistics and trading\"},\n",
    "                }\n",
    "faculty_dict"
   ]
  },
  {
   "cell_type": "markdown",
   "id": "2d4c62ba",
   "metadata": {},
   "source": [
    "## Getting Familiar with pandas DataFrames"
   ]
  },
  {
   "cell_type": "code",
   "execution_count": 30,
   "id": "c8b702a1",
   "metadata": {},
   "outputs": [],
   "source": [
    "faculty_df = pd.DataFrame(faculty_dict).T"
   ]
  },
  {
   "cell_type": "code",
   "execution_count": 31,
   "id": "12901efd",
   "metadata": {},
   "outputs": [],
   "source": [
    "faculty_df.to_csv(\"facultyInfo.csv\")"
   ]
  },
  {
   "cell_type": "code",
   "execution_count": 35,
   "id": "9cc042aa",
   "metadata": {},
   "outputs": [
    {
     "data": {
      "text/plain": [
       "' Jeremy Jackson is director of the Center for the Study of Public Choice and Private Enterprise, scholar at the Challey Institute for Global Innovation and Growth, and professor of economics in the Department of Agribusiness and Applied Economics at North Dakota State University.. He teaches undergraduate and graduate courses in the areas of microeconomics, public economics, and game theory and strategy. His research has been published in Applied Economics, The Independent Review, Public Choice, Contemporary Economic Policy, Journal of Happiness Studies, and other refereed and non-refereed sources. '"
      ]
     },
     "execution_count": 35,
     "metadata": {},
     "output_type": "execute_result"
    }
   ],
   "source": [
    "faculty_df.loc[\"Jeremy Jackson\"][\"Bio\"]"
   ]
  },
  {
   "cell_type": "code",
   "execution_count": 37,
   "id": "b3baed86",
   "metadata": {},
   "outputs": [
    {
     "data": {
      "text/plain": [
       "Index(['William Nganje', 'David Bullock', 'James Caton', 'David Englund',\n",
       "       'Erik Hanson', 'Ronald Haugen', 'Robert Hearne', 'Jeremy Jackson',\n",
       "       'Prithviraj Lakkakula', 'Siew Lim', 'Raymond March', 'Dragan Miljkovic',\n",
       "       'Frayne Olson', 'Bryon Parman', 'Tim Petry', 'Xudong Rao',\n",
       "       'Veeshan Rayamajhee', 'David Ripplinger', 'David Roberts',\n",
       "       'Kristi Schweiss', 'Anupa Sharma', 'Cheryl Wachenheim',\n",
       "       'William Wilson'],\n",
       "      dtype='object')"
      ]
     },
     "execution_count": 37,
     "metadata": {},
     "output_type": "execute_result"
    }
   ],
   "source": [
    "faculty_df.index"
   ]
  },
  {
   "cell_type": "code",
   "execution_count": 40,
   "id": "ffa47fb1",
   "metadata": {},
   "outputs": [
    {
     "data": {
      "text/plain": [
       "Index(['Website', 'Areas of Specialization', 'Bio'], dtype='object')"
      ]
     },
     "execution_count": 40,
     "metadata": {},
     "output_type": "execute_result"
    }
   ],
   "source": [
    "faculty_df.keys()"
   ]
  },
  {
   "cell_type": "code",
   "execution_count": 51,
   "id": "854b8b48",
   "metadata": {},
   "outputs": [
    {
     "data": {
      "text/plain": [
       "Website                    https://www.ndsu.edu/agecon/faculty/william_ng...\n",
       "Areas of Specialization    Risk management; financial analysis; economics...\n",
       "Bio                                                                       NA\n",
       "Name: William Nganje, dtype: object"
      ]
     },
     "execution_count": 51,
     "metadata": {},
     "output_type": "execute_result"
    }
   ],
   "source": [
    "faculty_df.loc[\"William Nganje\"]"
   ]
  },
  {
   "cell_type": "code",
   "execution_count": 53,
   "id": "fc134f19",
   "metadata": {
    "scrolled": true
   },
   "outputs": [
    {
     "name": "stdout",
     "output_type": "stream",
     "text": [
      "William Nganje\n",
      "David Bullock\n",
      "James Caton\n",
      "David Englund\n",
      "Erik Hanson\n",
      "Ronald Haugen\n",
      "Robert Hearne\n",
      "Jeremy Jackson\n",
      "Prithviraj Lakkakula\n",
      "Siew Lim\n",
      "Raymond March\n",
      "Dragan Miljkovic\n",
      "Frayne Olson\n",
      "Bryon Parman\n",
      "Tim Petry\n",
      "Xudong Rao\n",
      "Veeshan Rayamajhee\n",
      "David Ripplinger\n",
      "David Roberts\n",
      "Kristi Schweiss\n",
      "Anupa Sharma\n",
      "Cheryl Wachenheim\n",
      "William Wilson\n"
     ]
    }
   ],
   "source": [
    "names = faculty_df.index\n",
    "for name in names:\n",
    "    print(name)"
   ]
  },
  {
   "cell_type": "code",
   "execution_count": 55,
   "id": "cc4d657f",
   "metadata": {
    "scrolled": true
   },
   "outputs": [
    {
     "name": "stdout",
     "output_type": "stream",
     "text": [
      "Website                    https://www.ndsu.edu/agecon/faculty/william_ng...\n",
      "Areas of Specialization    Risk management; financial analysis; economics...\n",
      "Bio                                                                       NA\n",
      "Name: William Nganje, dtype: object\n",
      "Website                    https://www.ndsu.edu/agecon/faculty/bullock/#c...\n",
      "Areas of Specialization    futures and options markets, over-the-counter ...\n",
      "Bio                        Dr. David W. Bullock is a Research Associate P...\n",
      "Name: David Bullock, dtype: object\n",
      "Website                    https://www.ndsu.edu/centers/pcpe/about/direct...\n",
      "Areas of Specialization    Entrepreneurship, Institutions, Macroeconomics...\n",
      "Bio                        James Caton is a faculty fellow at the NDSU Ce...\n",
      "Name: James Caton, dtype: object\n",
      "Website                    https://www.ndsu.edu/agecon/faculty/englund/#c...\n",
      "Areas of Specialization    Teaches Economic Principles, Led NDSU NAMA to ...\n",
      "Bio                        David Englund is a lecturer in the department....\n",
      "Name: David Englund, dtype: object\n",
      "Website                    https://www.ndsu.edu/agecon/faculty/hanson/#c6...\n",
      "Areas of Specialization                            Ag Management, Ag Finance\n",
      "Bio                        Erik Hanson is an Assistant Professor in the D...\n",
      "Name: Erik Hanson, dtype: object\n",
      "Website                    https://www.ndsu.edu/agecon/about_us/faculty/r...\n",
      "Areas of Specialization    Farm management including: crop budgets, crop ...\n",
      "Bio                        Ron Haugen is an Extension Farm Management Spe...\n",
      "Name: Ronald Haugen, dtype: object\n",
      "Website                    https://www.ndsu.edu/agecon/faculty/hearne/#c6...\n",
      "Areas of Specialization    water resources management institutions, water...\n",
      "Bio                        Dr. Bob Hearne has been in the Department of A...\n",
      "Name: Robert Hearne, dtype: object\n",
      "Website                    https://www.ndsu.edu/centers/pcpe/about/direct...\n",
      "Areas of Specialization    public choice and the political economy; the s...\n",
      "Bio                         Jeremy Jackson is director of the Center for ...\n",
      "Name: Jeremy Jackson, dtype: object\n",
      "Website                    https://www.ndsu.edu/agecon/faculty/prithviraj...\n",
      "Areas of Specialization                   Blockchain, Agricultural Economics\n",
      "Bio                                                                         \n",
      "Name: Prithviraj Lakkakula, dtype: object\n",
      "Website                     https://www.ndsu.edu/agecon/faculty/lim/#c624837\n",
      "Areas of Specialization    applied microeconomics, production economics, ...\n",
      "Bio                        Siew Hoon Lim is an associate professor of eco...\n",
      "Name: Siew Lim, dtype: object\n",
      "Website                    https://www.ndsu.edu/centers/pcpe/about/direct...\n",
      "Areas of Specialization    public and private provision and governance of...\n",
      "Bio                        Raymond March is a scholar at the Challey Inst...\n",
      "Name: Raymond March, dtype: object\n",
      "Website                    https://www.ndsu.edu/agecon/faculty/miljkovic/...\n",
      "Areas of Specialization    agricultural price analysis, international eco...\n",
      "Bio                        Dragan Miljkovic is professor of agricultural ...\n",
      "Name: Dragan Miljkovic, dtype: object\n",
      "Website                    https://www.ndsu.edu/agecon/faculty/olson/#c62...\n",
      "Areas of Specialization     crop marketing strategies, crop outlook and p...\n",
      "Bio                        Dr. Frayne Olson is the Crop Economist/Marketi...\n",
      "Name: Frayne Olson, dtype: object\n",
      "Website                    https://www.ndsu.edu/agecon/faculty/parman/#c6...\n",
      "Areas of Specialization                                                     \n",
      "Bio                                                                         \n",
      "Name: Bryon Parman, dtype: object\n",
      "Website                    https://www.ndsu.edu/agecon/faculty/petry/#c62...\n",
      "Areas of Specialization                                    Price Forecasting\n",
      "Bio                        Tim Petry was raised on a livestock ranch in N...\n",
      "Name: Tim Petry, dtype: object\n",
      "Website                     https://www.ndsu.edu/agecon/faculty/rao/#c629066\n",
      "Areas of Specialization    Farm and Agribusiness Management, Risk Analysi...\n",
      "Bio                        Rao is an assistant professor of agricultural ...\n",
      "Name: Xudong Rao, dtype: object\n",
      "Website                    https://www.ndsu.edu/centers/pcpe/about/direct...\n",
      "Areas of Specialization        Public Choice and New Institutional Economics\n",
      "Bio                        Veeshan Rayamajhee is a scholar at the Challey...\n",
      "Name: Veeshan Rayamajhee, dtype: object\n",
      "Website                    https://www.ndsu.edu/agecon/faculty/ripplinger...\n",
      "Areas of Specialization                                            Bioenergy\n",
      "Bio                        David Ripplinger is an Associate Professor in ...\n",
      "Name: David Ripplinger, dtype: object\n",
      "Website                    https://www.ndsu.edu/agecon/faculty/roberts/#c...\n",
      "Areas of Specialization    agricultural production methods on the environ...\n",
      "Bio                        David Roberts is an Assistant Professor of Agr...\n",
      "Name: David Roberts, dtype: object\n",
      "Website                    https://www.ndsu.edu/agecon/faculty/schweiss/#...\n",
      "Areas of Specialization                                                     \n",
      "Bio                                                 Assistant Director, QBCC\n",
      "Name: Kristi Schweiss, dtype: object\n",
      "Website                    https://www.ndsu.edu/agecon/faculty/sharma/#c6...\n",
      "Areas of Specialization    International Trade Agreements, Trade Patterns...\n",
      "Bio                        Anupa Sharma is an Assistant Professor in the ...\n",
      "Name: Anupa Sharma, dtype: object\n",
      "Website                    https://www.ndsu.edu/agecon/faculty/wachenheim...\n",
      "Areas of Specialization     eliciting perceptions and valuations from con...\n",
      "Bio                        Cheryl Wachenheim is a Professor in the Depart...\n",
      "Name: Cheryl Wachenheim, dtype: object\n",
      "Website                    https://www.ndsu.edu/agecon/faculty/wilson/#c6...\n",
      "Areas of Specialization           commodity marketing, logistics and trading\n",
      "Bio                        Dr. William W. Wilson received his PhD in Agri...\n",
      "Name: William Wilson, dtype: object\n"
     ]
    }
   ],
   "source": [
    "for name in names:\n",
    "    print(faculty_df.loc[name])"
   ]
  },
  {
   "cell_type": "code",
   "execution_count": 56,
   "id": "fab18165",
   "metadata": {},
   "outputs": [
    {
     "data": {
      "text/plain": [
       "Index(['Website', 'Areas of Specialization', 'Bio'], dtype='object')"
      ]
     },
     "execution_count": 56,
     "metadata": {},
     "output_type": "execute_result"
    }
   ],
   "source": [
    "keys = faculty_df.keys()\n",
    "keys"
   ]
  },
  {
   "cell_type": "code",
   "execution_count": 59,
   "id": "75c38944",
   "metadata": {
    "scrolled": true
   },
   "outputs": [
    {
     "name": "stdout",
     "output_type": "stream",
     "text": [
      "William Nganje\n",
      "Website\n",
      "Areas of Specialization\n",
      "Bio\n",
      "\n",
      "David Bullock\n",
      "Website\n",
      "Areas of Specialization\n",
      "Bio\n",
      "\n",
      "James Caton\n",
      "Website\n",
      "Areas of Specialization\n",
      "Bio\n",
      "\n",
      "David Englund\n",
      "Website\n",
      "Areas of Specialization\n",
      "Bio\n",
      "\n",
      "Erik Hanson\n",
      "Website\n",
      "Areas of Specialization\n",
      "Bio\n",
      "\n",
      "Ronald Haugen\n",
      "Website\n",
      "Areas of Specialization\n",
      "Bio\n",
      "\n",
      "Robert Hearne\n",
      "Website\n",
      "Areas of Specialization\n",
      "Bio\n",
      "\n",
      "Jeremy Jackson\n",
      "Website\n",
      "Areas of Specialization\n",
      "Bio\n",
      "\n",
      "Prithviraj Lakkakula\n",
      "Website\n",
      "Areas of Specialization\n",
      "Bio\n",
      "\n",
      "Siew Lim\n",
      "Website\n",
      "Areas of Specialization\n",
      "Bio\n",
      "\n",
      "Raymond March\n",
      "Website\n",
      "Areas of Specialization\n",
      "Bio\n",
      "\n",
      "Dragan Miljkovic\n",
      "Website\n",
      "Areas of Specialization\n",
      "Bio\n",
      "\n",
      "Frayne Olson\n",
      "Website\n",
      "Areas of Specialization\n",
      "Bio\n",
      "\n",
      "Bryon Parman\n",
      "Website\n",
      "Areas of Specialization\n",
      "Bio\n",
      "\n",
      "Tim Petry\n",
      "Website\n",
      "Areas of Specialization\n",
      "Bio\n",
      "\n",
      "Xudong Rao\n",
      "Website\n",
      "Areas of Specialization\n",
      "Bio\n",
      "\n",
      "Veeshan Rayamajhee\n",
      "Website\n",
      "Areas of Specialization\n",
      "Bio\n",
      "\n",
      "David Ripplinger\n",
      "Website\n",
      "Areas of Specialization\n",
      "Bio\n",
      "\n",
      "David Roberts\n",
      "Website\n",
      "Areas of Specialization\n",
      "Bio\n",
      "\n",
      "Kristi Schweiss\n",
      "Website\n",
      "Areas of Specialization\n",
      "Bio\n",
      "\n",
      "Anupa Sharma\n",
      "Website\n",
      "Areas of Specialization\n",
      "Bio\n",
      "\n",
      "Cheryl Wachenheim\n",
      "Website\n",
      "Areas of Specialization\n",
      "Bio\n",
      "\n",
      "William Wilson\n",
      "Website\n",
      "Areas of Specialization\n",
      "Bio\n",
      "\n"
     ]
    }
   ],
   "source": [
    "for name in names:\n",
    "    print(name)\n",
    "    for key in keys:\n",
    "        print(key)#, faculty_df.loc[name][key])\n",
    "    print()"
   ]
  },
  {
   "cell_type": "code",
   "execution_count": 62,
   "id": "957bf957",
   "metadata": {},
   "outputs": [
    {
     "name": "stdout",
     "output_type": "stream",
     "text": [
      "William Nganje\n",
      "Website: https://www.ndsu.edu/agecon/faculty/william_nganje/#c622350\n",
      "Areas of Specialization: Risk management; financial analysis; economics of obesity, food safety and food terrorism; experimental economics; and consumer choice theory\n",
      "Bio: NA\n",
      "\n",
      "David Bullock\n",
      "Website: https://www.ndsu.edu/agecon/faculty/bullock/#c622728\n",
      "Areas of Specialization: futures and options markets, over-the-counter derivatives, trading, risk management, agrifinance, Monte Carlo simulation, and Big Data\n",
      "Bio: Dr. David W. Bullock is a Research Associate Professor affiliated with the Center for Trading and Risk at NDSU.  His research interests include futures and options markets, over-the-counter derivatives, trading, risk management, agrifinance, Monte Carlo simulation, and Big Data applications in agriculture.  His academic research in option portfolio theory has been published in both the Journal of Economics and Business and the International Review of Economics and Finance.  Additionally, he was the primary contributor behind the AgriBank Insights publication series which won a National AgriMarketing Association (NAMA) award for the best company publication in 2016. Before coming to NDSU in January 2018, Dr. Bullock held numerous positions for over 25 years in the government and private sectors including the Senior Economist at AgriBank FCB – the regional Farm Credit System funding bank for the Upper Midwest region, Director of Research and Senior Foods Economist at Fortune 500 commodity risk management firm INTL FCStone Inc., the Senior Dairy Analyst at Informa Economics, a Risk Management Specialist with the Minnesota Department of Agriculture, and the Senior Economist at the Minneapolis Grain Exchange. David began his academic career as an Assistant Professor and Extension Marketing Economist at Montana State University after graduating from Iowa State University with a Ph.D. in agricultural economics with fields in agricultural price analysis and econometrics in 1989.  Prior to entering ISU, he received bachelor’s (1982) and master’s (1984) degrees in agricultural economics from Northwest Missouri State University. Dr. Bullock is originally from the small northwestern Missouri farming community of Lathrop which is located 40 miles north of the Kansas City metropolitan area.  While in high school, he served as a regional state Vice-President in the Future Farmers of America (FFA) during his senior year.\n",
      "\n",
      "James Caton\n",
      "Website: https://www.ndsu.edu/centers/pcpe/about/directory/james_caton/\n",
      "Areas of Specialization: Entrepreneurship, Institutions, Macroeconomics, Computation\n",
      "Bio: James Caton is a faculty fellow at the NDSU Center for the Study of Public Choice and Private Enterprise (PCPE) and an assistant professor in the NDSU Department of Agribusiness and Applied Economics. He teaches undergraduate courses in the areas of macroeconomics, international trade, and computation. He specializes in research related to entrepreneurship, agent-based computational economics, market process theory, and monetary economics. His research has been published in the Southern Economic Journal, Erasmus Journal for Philosophy and Economics, Journal of Entrepreneurship and Public Policy and other academic publications. He co-edited Macroeconomics, a two volume set of essays and primary sources that represent the core of macroeconomic thought. He is also a regular contributor to the American Institute for Economic Research's Sound Money Project, which conducts research and promotes awareness about monetary stability and financial privacy. He resides in Fargo with his wife, Ingrid, and their children.\n",
      "\n",
      "David Englund\n",
      "Website: https://www.ndsu.edu/agecon/faculty/englund/#c622903\n",
      "Areas of Specialization: Teaches Economic Principles, Led NDSU NAMA to National Champions\n",
      "Bio: David Englund is a lecturer in the department.  He came to the department with 16 years of teaching experience, having taught Principles of Microeconomics, Principles of Macroeconomics, Money and Banking, Consumer Behavior, Selected Topics in Business, and several other classes.  He also had 10 years’ experience advising student NAMA chapters, having been awarded the Outstanding Advisor of the Year for a Developing Chapter in 2002, and the Outstanding Advisor of the Year award in 2009.\n",
      "David primarily teaches Survey of Economics, Principles of Microeconomics, Skills for Academic Success, Agricultural Marketing, and NAMA (co-teaches).  He joined the NAMA team in the 2014-2015 school year as a co-advisor and helped coach the student team to a 3rd place finish in the national student marketing plan competition at the national conference.\n",
      "Some of David’s outside interests are jogging, photography, and writing fiction novels.  His latest release, Camouflaged Encounters has received positive reviews.\n",
      "\n",
      "Erik Hanson\n",
      "Website: https://www.ndsu.edu/agecon/faculty/hanson/#c622905\n",
      "Areas of Specialization: Ag Management, Ag Finance\n",
      "Bio: Erik Hanson is an Assistant Professor in the Department of Agricultural and Applied Economics. He teaches courses on agribusiness management and agricultural finance. Erik completed his Ph.D. at the University of Minnesota in 2016. Prior to that, Erik completed a master’s degree at the University of Illinois (2013) and a bachelor’s degree at Minnesota State University Moorhead (2011).\n",
      "\n",
      "Ronald Haugen\n",
      "Website: https://www.ndsu.edu/agecon/about_us/faculty/ron_haugen/#c654700\n",
      "Areas of Specialization: Farm management including: crop budgets, crop insurance, farm programs, custom farm rates, land rents, machinery economics, commodity price projections and agricultural income taxes. \n",
      "Bio: Ron Haugen is an Extension Farm Management Specialist. He has been in the department since 1991. He computes the North Dakota Land Valuation Model.\n",
      "\n",
      "Robert Hearne\n",
      "Website: https://www.ndsu.edu/agecon/faculty/hearne/#c622909\n",
      "Areas of Specialization: water resources management institutions, water markets, protected area management, and the economic valuation of environmental goods and services.\n",
      "Bio: Dr. Bob Hearne has been in the Department of Agribusiness and Applied Economics since 2002. He has professional experience in Europe, Asia, Latin America, and Asia.\n",
      "\n",
      "Jeremy Jackson\n",
      "Website: https://www.ndsu.edu/centers/pcpe/about/directory/jeremy_jackson/\n",
      "Areas of Specialization: public choice and the political economy; the social consequences of economic freedom; happiness and well-being; and philanthropy and nonprofits.\n",
      "Bio:  Jeremy Jackson is director of the Center for the Study of Public Choice and Private Enterprise, scholar at the Challey Institute for Global Innovation and Growth, and professor of economics in the Department of Agribusiness and Applied Economics at North Dakota State University.. He teaches undergraduate and graduate courses in the areas of microeconomics, public economics, and game theory and strategy. His research has been published in Applied Economics, The Independent Review, Public Choice, Contemporary Economic Policy, Journal of Happiness Studies, and other refereed and non-refereed sources. \n",
      "\n",
      "Prithviraj Lakkakula\n",
      "Website: https://www.ndsu.edu/agecon/faculty/prithviraj_lakkakula/#c623441\n",
      "Areas of Specialization: Blockchain, Agricultural Economics\n",
      "Bio: \n",
      "\n",
      "Siew Lim\n",
      "Website: https://www.ndsu.edu/agecon/faculty/lim/#c624837\n",
      "Areas of Specialization: applied microeconomics, production economics, industrial organization, transportation and regional development, transportation and  regional development\n",
      "Bio: Siew Hoon Lim is an associate professor of economics.\n",
      "\n",
      "Raymond March\n",
      "Website: https://www.ndsu.edu/centers/pcpe/about/directory/raymond_march/\n",
      "Areas of Specialization: public and private provision and governance of health care in the United States, particularly in pharmaceutical markets\n",
      "Bio: Raymond March is a scholar at the Challey Institute for Global Innovation and Growth with the Center for the Study of Public Choice and Private Enterprise and an assistant professor of economics in the Department of Agribusiness and Applied Economics at North Dakota State University. He teaches courses in microeconomics, the history of economic thought, and health economics.\n",
      "\n",
      "Dragan Miljkovic\n",
      "Website: https://www.ndsu.edu/agecon/faculty/miljkovic/#c625001\n",
      "Areas of Specialization: agricultural price analysis, international economics, and agricultural and food policy including human nutrition, obesity, and food safety\n",
      "Bio: Dragan Miljkovic is professor of agricultural economics in the Department of Agribusiness & Applied Economics at North Dakota State University. Dr. Miljkovic holds B.S. and M.S. degrees in Economics from the University of Belgrade, and Ph.D. in Agricultural Economics from the University of Illinois at Urbana-Champaign. Dr. Miljkovic authored over sixty peer reviewed journal articles and book chapters, and edited three books. He has more than 60 selected and invited presentations at various domestic and international conferences and universities in North America, Europe, New Zealand, and Australia. Dr. Miljkovic teaches undergraduate class in agricultural prices and graduate advanced econometrics class. Dr. Miljkovic is the Founding Editor and Editor-In-Chief of the Journal of International Agricultural Trade and Development (JIATD), and has also served as the Associate Editor of the Journal of Agricultural and Applied Economics (JAAE). He is an active member of numerous professional organizations and associations including the International Agricultural Trade Research Consortium (IATRC), the AAEA, the SAEA, WAEA, NAREA, AARES, and regional projects NCCC-134, WERA-72, and S-1016.\n",
      "\n",
      "Frayne Olson\n",
      "Website: https://www.ndsu.edu/agecon/faculty/olson/#c625016\n",
      "Areas of Specialization:  crop marketing strategies, crop outlook and price analysis, and the economics of crop contracting\n",
      "Bio: Dr. Frayne Olson is the Crop Economist/Marketing Specialist with the North Dakota State University Extension and Director of the Quentin Burdick Center for Cooperatives.  Dr. Olson conducts educational programs.  As Director of the Center for Cooperatives, he teaches a senior level course on cooperative business management and coordinates the Center’s research and outreach activities.  Dr. Olson received his PhD from the University of Missouri in Agricultural Economics, and his M.S. and B.S. in Agricultural Economics from North Dakota State University.\n",
      "\n",
      "Bryon Parman\n",
      "Website: https://www.ndsu.edu/agecon/faculty/parman/#c654590\n",
      "Areas of Specialization: \n",
      "Bio: \n",
      "\n",
      "Tim Petry\n",
      "Website: https://www.ndsu.edu/agecon/faculty/petry/#c625018\n",
      "Areas of Specialization: Price Forecasting\n",
      "Bio: Tim Petry was raised on a livestock ranch in Northwestern North Dakota. He graduated from North Dakota State University with a major in Agricultural Economics in 1969 and served two years in the US Army. Petry returned to NDSU and completed a Master’s Degree in Agricultural Economics with an agricultural marketing emphasis in 1973. He was a member of the teaching/research staff in the Department of Agricultural Economics for 30 years. During his teaching tenure, he taught many marketing courses including several livestock marketing classes, and a very popular introduction to agricultural marketing class. In 2002, Petry retired from teaching and joined the NDSU Extension Service as a Livestock Marketing Economist. He travels extensively in North Dakota and the surrounding area conducting meetings on livestock marketing educational topics. Petry writes a popular monthly “Market Advisor” column on current livestock marketing issues. Copies of his presentations, columns, and other current information affecting the livestock industry are available on his web site: www.ag.ndsu.edu/livestockeconomics. Tim Petry and his wife Shirley have three grown daughters.\n",
      "\n",
      "Xudong Rao\n",
      "Website: https://www.ndsu.edu/agecon/faculty/rao/#c629066\n",
      "Areas of Specialization: Farm and Agribusiness Management, Risk Analysis, Efficiency and Productivity, Technology Adoption, Food and Agricultural Policy, International Agricultural Development\n",
      "Bio: Rao is an assistant professor of agricultural economics at NDSU\n",
      "\n",
      "Veeshan Rayamajhee\n",
      "Website: https://www.ndsu.edu/centers/pcpe/about/directory/veeshan_rayamajhee/\n",
      "Areas of Specialization: Public Choice and New Institutional Economics\n",
      "Bio: Veeshan Rayamajhee is a scholar at the Challey Institute for Global Innovation and Growth with the Center for the Study of Public Choice and Private Enterprise and an assistant professor of economics in the Department of Agribusiness and Applied Economics at North Dakota State University. His research combines insights from Public Choice and New Institutional Economics to understand individual and collective responses to covariate shocks. He uses a range of empirical tools to study issues related to disasters, climate adaptation, food and energy security, and environmental externalities. His research has appeared in peer-reviewed journals such as Journal of Institutional Economics, Disasters, Economics of Disasters and Climate Change, Journal of International Development, Food Security, and Renewable Energy. For updates on his research, please visit: veeshan.rayamajhee.com/research\n",
      "\n",
      "David Ripplinger\n",
      "Website: https://www.ndsu.edu/agecon/faculty/ripplinger/#c629078\n",
      "Areas of Specialization: Bioenergy\n",
      "Bio: David Ripplinger is an Associate Professor in the Department of Agribusiness and Applied Economics at North Dakota State University and bioproducts/bioenergy economics specialist with NDSU Extension. In these roles, David conducts research and provides support to farmers and the bioenergy industry. \n",
      "\n",
      "David Roberts\n",
      "Website: https://www.ndsu.edu/agecon/faculty/roberts/#c629137\n",
      "Areas of Specialization: agricultural production methods on the environment and natural resources\n",
      "Bio: David Roberts is an Assistant Professor of Agribusiness and Applied Economics at North Dakota State University. His research focuses on the impacts of agricultural production methods on the environment and natural resources. David is particularly interested in the economics of precision agriculture technologies and the response of cropping patterns and land use change to emerging biofuels policy at the Federal level. His doctoral dissertation research investigated the relative profitability of several different mid-season optimal nitrogen rate prediction systems for winter wheat in Oklahoma, and investigated how incorporation of uncertainty in estimated and predicted production functions can increase the profitability of the prediction systems. David’s MS thesis investigated the suitability of water quality trading as a policy instrument for dealing with nutrient runoff from agricultural operations in Tennessee. Results showed conditions in polluted watersheds in Tennessee likely will not support robust trading in water quality allowances or offsets.\n",
      "\n",
      "Kristi Schweiss\n",
      "Website: https://www.ndsu.edu/agecon/faculty/schweiss/#c629139\n",
      "Areas of Specialization: \n",
      "Bio: Assistant Director, QBCC\n",
      "\n",
      "Anupa Sharma\n",
      "Website: https://www.ndsu.edu/agecon/faculty/sharma/#c629150\n",
      "Areas of Specialization: International Trade Agreements, Trade Patterns, Distance and Missing Globalization, International Trade and Development\n",
      "Bio: Anupa Sharma is an Assistant Professor in the Department of Agribusiness and Applied Economics at North Dakota State University. She also serves as the Assistant Director for the Center for Agricultural Policy and Trade Studies (CAPTS). She develops quantitative methods to address issues pertinent to International Trade.\n",
      "\n",
      "Cheryl Wachenheim\n",
      "Website: https://www.ndsu.edu/agecon/faculty/wachenheim/#c629162\n",
      "Areas of Specialization:  eliciting perceptions and valuations from consumers, firms, students and other stakeholders and decision makers\n",
      "Bio: Cheryl Wachenheim is a Professor in the Department of Agribusiness and Applied Economics at North Dakota State University. She holds an undergraduate degree in animal sciences from the University of Minnesota, and a Master’s and doctorate in Agricultural Economics and an MBA from Michigan State University. She began her academic career at Illinois State University in Central Illinois and has been on the faculty at NDSU since 1998.  She regularly teaches classes in economics, agricultural sales, agricultural finance, agricultural marketing, and strategic marketing and management.  Research interests focus on eliciting perceptions and valuations from consumers, firms, students and other stakeholders and decision makers.  Analysis then allows for identification of high-value marketing and management strategies.  Cheryl has been a member of the MN Army National Guard since 1998. She is currently the Commander of the 204th Area Medical Support Company in Cottage Grove, Minnesota.\n",
      "\n",
      "William Wilson\n",
      "Website: https://www.ndsu.edu/agecon/faculty/wilson/#c629178\n",
      "Areas of Specialization: commodity marketing, logistics and trading\n",
      "Bio: Dr. William W. Wilson received his PhD in Agricultural Economics from the University of Manitoba in 1980. Since then he has been a Professor at North Dakota State University in Agribusiness and Applied Economics with periodic sabbaticals at Stanford University. Recently, he was named as a University Distinguished Professor at NDSU which an honorary position is, and a great achievement.  And, in 2016 he was named the CHS Chair in Risk Management and Trading at NDSU which is an endowed position. In 2017 he was awarded the AAEA 2016 Distinguished Teaching Award (Chicago July 2017) His focus is risk and strategy as applied to agriculture and agribusiness with a particular focus on agtechnology development and commercialization, procurement, transportation and logistics, international marketing and competition. He teaches classes in Commodity Trading, Risk and AgriBusiness Strategy and has taught his Risk Class at Purdue University; and is a visiting scholar at Melbourne University where he visits 2 times/year and advises PhD students in risk and agbiotechnology. Finally, he has now created the NDSU Commodity Trading Room which is a state of art facility for teaching and research in commodity marketing, logistics and trading. He routinely has projects and/or overseas clients and travels internationally 1 week per month.  He led a project for the United States on privatization of the grain marketing system in Russia in the early 1990’s. He currently has projects and/or clients in US, Russia, Ukraine, Mexico, Argentina and Australia. He regularly advises a number of large Agribusiness firms, several major railroads, and several major food and beverage companies and/or governments in other countries. He served as a Board member of the Minneapolis Grain Exchange for 12 years, on the FGIS Advisory Board, and currently serves as a Board member of several regional firms in agtechnology and venture capital (AMITY, BUSHEL), in addition to NCH Capital (New York City which is one of the largest investors in world agriculture). He regularly consults with major agribusiness firms on topics related to above and has worked extensively in the following industries: agtechnology,  logistics, procurement strategy, railroads, barges, ocean shipping, elevators (shuttle development), and processed products (malting and beer, durum and pasta, wheat and bread). He was recognized as one of the top 10 Agricultural Economists in 1995 and more recently as one of the top 1% of agricultural economists by RePEc (Research Papers in Economics). Finally, he has students who are in senior positions in a number of the large agribusinesses including commodity companies, railroads and food and beverage companies.\n",
      "\n"
     ]
    }
   ],
   "source": [
    "for name in names:\n",
    "    print(name)\n",
    "    for key in keys:\n",
    "        print(key+\":\", faculty_df.loc[name, key])\n",
    "    print()"
   ]
  },
  {
   "cell_type": "code",
   "execution_count": 71,
   "id": "0ef9066e",
   "metadata": {},
   "outputs": [
    {
     "data": {
      "text/html": [
       "<div>\n",
       "<style scoped>\n",
       "    .dataframe tbody tr th:only-of-type {\n",
       "        vertical-align: middle;\n",
       "    }\n",
       "\n",
       "    .dataframe tbody tr th {\n",
       "        vertical-align: top;\n",
       "    }\n",
       "\n",
       "    .dataframe thead th {\n",
       "        text-align: right;\n",
       "    }\n",
       "</style>\n",
       "<table border=\"1\" class=\"dataframe\">\n",
       "  <thead>\n",
       "    <tr style=\"text-align: right;\">\n",
       "      <th></th>\n",
       "      <th>Website</th>\n",
       "      <th>Areas of Specialization</th>\n",
       "      <th>Bio</th>\n",
       "    </tr>\n",
       "  </thead>\n",
       "  <tbody>\n",
       "    <tr>\n",
       "      <th>William Nganje</th>\n",
       "      <td>https://www.ndsu.edu/agecon/faculty/william_ng...</td>\n",
       "      <td>Risk management; financial analysis; economics...</td>\n",
       "      <td>NA</td>\n",
       "    </tr>\n",
       "    <tr>\n",
       "      <th>Xudong Rao</th>\n",
       "      <td>https://www.ndsu.edu/agecon/faculty/rao/#c629066</td>\n",
       "      <td>Farm and Agribusiness Management, Risk Analysi...</td>\n",
       "      <td>Rao is an assistant professor of agricultural ...</td>\n",
       "    </tr>\n",
       "  </tbody>\n",
       "</table>\n",
       "</div>"
      ],
      "text/plain": [
       "                                                          Website  \\\n",
       "William Nganje  https://www.ndsu.edu/agecon/faculty/william_ng...   \n",
       "Xudong Rao       https://www.ndsu.edu/agecon/faculty/rao/#c629066   \n",
       "\n",
       "                                          Areas of Specialization  \\\n",
       "William Nganje  Risk management; financial analysis; economics...   \n",
       "Xudong Rao      Farm and Agribusiness Management, Risk Analysi...   \n",
       "\n",
       "                                                              Bio  \n",
       "William Nganje                                                 NA  \n",
       "Xudong Rao      Rao is an assistant professor of agricultural ...  "
      ]
     },
     "execution_count": 71,
     "metadata": {},
     "output_type": "execute_result"
    }
   ],
   "source": [
    "faculty_df[faculty_df[\"Areas of Specialization\"].str.contains(\"Risk\")]"
   ]
  },
  {
   "cell_type": "code",
   "execution_count": 76,
   "id": "1fc5f1d4",
   "metadata": {},
   "outputs": [
    {
     "data": {
      "text/html": [
       "<div>\n",
       "<style scoped>\n",
       "    .dataframe tbody tr th:only-of-type {\n",
       "        vertical-align: middle;\n",
       "    }\n",
       "\n",
       "    .dataframe tbody tr th {\n",
       "        vertical-align: top;\n",
       "    }\n",
       "\n",
       "    .dataframe thead th {\n",
       "        text-align: right;\n",
       "    }\n",
       "</style>\n",
       "<table border=\"1\" class=\"dataframe\">\n",
       "  <thead>\n",
       "    <tr style=\"text-align: right;\">\n",
       "      <th></th>\n",
       "      <th>Website</th>\n",
       "      <th>Areas of Specialization</th>\n",
       "      <th>Bio</th>\n",
       "    </tr>\n",
       "  </thead>\n",
       "  <tbody>\n",
       "    <tr>\n",
       "      <th>Jeremy Jackson</th>\n",
       "      <td>https://www.ndsu.edu/centers/pcpe/about/direct...</td>\n",
       "      <td>public choice and the political economy; the s...</td>\n",
       "      <td>Jeremy Jackson is director of the Center for ...</td>\n",
       "    </tr>\n",
       "    <tr>\n",
       "      <th>Raymond March</th>\n",
       "      <td>https://www.ndsu.edu/centers/pcpe/about/direct...</td>\n",
       "      <td>public and private provision and governance of...</td>\n",
       "      <td>Raymond March is a scholar at the Challey Inst...</td>\n",
       "    </tr>\n",
       "    <tr>\n",
       "      <th>Veeshan Rayamajhee</th>\n",
       "      <td>https://www.ndsu.edu/centers/pcpe/about/direct...</td>\n",
       "      <td>Public Choice and New Institutional Economics</td>\n",
       "      <td>Veeshan Rayamajhee is a scholar at the Challey...</td>\n",
       "    </tr>\n",
       "  </tbody>\n",
       "</table>\n",
       "</div>"
      ],
      "text/plain": [
       "                                                              Website  \\\n",
       "Jeremy Jackson      https://www.ndsu.edu/centers/pcpe/about/direct...   \n",
       "Raymond March       https://www.ndsu.edu/centers/pcpe/about/direct...   \n",
       "Veeshan Rayamajhee  https://www.ndsu.edu/centers/pcpe/about/direct...   \n",
       "\n",
       "                                              Areas of Specialization  \\\n",
       "Jeremy Jackson      public choice and the political economy; the s...   \n",
       "Raymond March       public and private provision and governance of...   \n",
       "Veeshan Rayamajhee      Public Choice and New Institutional Economics   \n",
       "\n",
       "                                                                  Bio  \n",
       "Jeremy Jackson       Jeremy Jackson is director of the Center for ...  \n",
       "Raymond March       Raymond March is a scholar at the Challey Inst...  \n",
       "Veeshan Rayamajhee  Veeshan Rayamajhee is a scholar at the Challey...  "
      ]
     },
     "execution_count": 76,
     "metadata": {},
     "output_type": "execute_result"
    }
   ],
   "source": [
    "names = [\"Jeremy Jackson\", \"Raymond March\", \"Veeshan Rayamajhee\"]\n",
    "faculty_df[faculty_df.index.isin(names)]"
   ]
  },
  {
   "cell_type": "code",
   "execution_count": 68,
   "id": "7e54d943",
   "metadata": {},
   "outputs": [
    {
     "data": {
      "text/plain": [
       "True"
      ]
     },
     "execution_count": 68,
     "metadata": {},
     "output_type": "execute_result"
    }
   ],
   "source": [
    "lst = [\"a\", \"b\", \"c\"]\n",
    "\"a\" in lst"
   ]
  }
 ],
 "metadata": {
  "kernelspec": {
   "display_name": "Python 3",
   "language": "python",
   "name": "python3"
  },
  "language_info": {
   "codemirror_mode": {
    "name": "ipython",
    "version": 3
   },
   "file_extension": ".py",
   "mimetype": "text/x-python",
   "name": "python",
   "nbconvert_exporter": "python",
   "pygments_lexer": "ipython3",
   "version": "3.8.8"
  }
 },
 "nbformat": 4,
 "nbformat_minor": 5
}
