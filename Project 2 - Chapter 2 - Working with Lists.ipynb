{
 "cells": [
  {
   "cell_type": "markdown",
   "id": "b0d2fb00",
   "metadata": {},
   "source": [
    "# Project 2: Chapter 2 - Working with Lists\n",
    "\n",
    "## Lists can hold any kind of object"
   ]
  },
  {
   "cell_type": "code",
   "execution_count": 1,
   "id": "107fd2c4",
   "metadata": {},
   "outputs": [
    {
     "name": "stdout",
     "output_type": "stream",
     "text": [
      "[]\n",
      "[1, 2, 3, 4, 5]\n",
      "[1.0, 2.0, 3.0, 4.0, 5.0]\n",
      "['Many words', 'impoverished meaning']\n",
      "[1, 2.0, 'Mix it up']\n"
     ]
    }
   ],
   "source": [
    "empty_list = []\n",
    "int_list = [1,2,3,4,5]\n",
    "float_list = [1.0, 2.0, 3.0, 4.0, 5.0]\n",
    "string_list = [\"Many words\", \"impoverished meaning\"]\n",
    "mixed_list = [1, 2.0, \"Mix it up\"]\n",
    "\n",
    "print(empty_list)\n",
    "print(int_list)\n",
    "print(float_list)\n",
    "print(string_list)\n",
    "print(mixed_list)\n",
    "\n"
   ]
  },
  {
   "cell_type": "markdown",
   "id": "f8e952a9",
   "metadata": {},
   "source": [
    "Let's check the types of objects in the last list."
   ]
  },
  {
   "cell_type": "code",
   "execution_count": 2,
   "id": "a1718710",
   "metadata": {},
   "outputs": [
    {
     "data": {
      "text/plain": [
       "list"
      ]
     },
     "execution_count": 2,
     "metadata": {},
     "output_type": "execute_result"
    }
   ],
   "source": [
    "type(mixed_list)"
   ]
  },
  {
   "cell_type": "markdown",
   "id": "7441b302",
   "metadata": {},
   "source": [
    "To access elements in a list, you must call the index which starts from 0 and counts upward with each additional element."
   ]
  },
  {
   "cell_type": "code",
   "execution_count": 3,
   "id": "33af4dda",
   "metadata": {},
   "outputs": [
    {
     "data": {
      "text/plain": [
       "(1, int)"
      ]
     },
     "execution_count": 3,
     "metadata": {},
     "output_type": "execute_result"
    }
   ],
   "source": [
    "mixed_list[0], type(mixed_list[0])"
   ]
  },
  {
   "cell_type": "code",
   "execution_count": 4,
   "id": "88824474",
   "metadata": {},
   "outputs": [
    {
     "data": {
      "text/plain": [
       "(2.0, float)"
      ]
     },
     "execution_count": 4,
     "metadata": {},
     "output_type": "execute_result"
    }
   ],
   "source": [
    "mixed_list[1], type(mixed_list[1])"
   ]
  },
  {
   "cell_type": "code",
   "execution_count": 5,
   "id": "442a8877",
   "metadata": {},
   "outputs": [
    {
     "data": {
      "text/plain": [
       "('Mix it up', str)"
      ]
     },
     "execution_count": 5,
     "metadata": {},
     "output_type": "execute_result"
    }
   ],
   "source": [
    "mixed_list[2], type(mixed_list[2])"
   ]
  },
  {
   "cell_type": "markdown",
   "id": "a88188c2",
   "metadata": {},
   "source": [
    "## Concatenate lists"
   ]
  },
  {
   "cell_type": "code",
   "execution_count": 6,
   "id": "1b6526f2",
   "metadata": {},
   "outputs": [
    {
     "data": {
      "text/plain": [
       "[4, 6, 32, 6, 7, 98]"
      ]
     },
     "execution_count": 6,
     "metadata": {},
     "output_type": "execute_result"
    }
   ],
   "source": [
    "list1 = [4,6,32,6,7,98]\n",
    "list2 = [1,6,3,7,89,0]\n",
    "\n",
    "join_lists = list1 + list2\n",
    "\n",
    "list1"
   ]
  },
  {
   "cell_type": "code",
   "execution_count": 7,
   "id": "9aad8834",
   "metadata": {},
   "outputs": [
    {
     "data": {
      "text/plain": [
       "[1, 6, 3, 7, 89, 0]"
      ]
     },
     "execution_count": 7,
     "metadata": {},
     "output_type": "execute_result"
    }
   ],
   "source": [
    "list2"
   ]
  },
  {
   "cell_type": "code",
   "execution_count": 8,
   "id": "4b64eb48",
   "metadata": {},
   "outputs": [
    {
     "data": {
      "text/plain": [
       "[4, 6, 32, 6, 7, 98, 1, 6, 3, 7, 89, 0]"
      ]
     },
     "execution_count": 8,
     "metadata": {},
     "output_type": "execute_result"
    }
   ],
   "source": [
    "join_lists"
   ]
  },
  {
   "cell_type": "markdown",
   "id": "3d71845b",
   "metadata": {},
   "source": [
    "Remember this is just like concatenating strings"
   ]
  },
  {
   "cell_type": "code",
   "execution_count": 9,
   "id": "2771b729",
   "metadata": {},
   "outputs": [
    {
     "data": {
      "text/plain": [
       "'Some stringAnother string to concatenate with str1'"
      ]
     },
     "execution_count": 9,
     "metadata": {},
     "output_type": "execute_result"
    }
   ],
   "source": [
    "str1 = \"Some string\"\n",
    "str2 = \"Another string to concatenate with str1\"\n",
    "\n",
    "join_strings = str1 + str2\n",
    "join_strings"
   ]
  },
  {
   "cell_type": "code",
   "execution_count": 10,
   "id": "218dde61",
   "metadata": {},
   "outputs": [
    {
     "data": {
      "text/plain": [
       "'m'"
      ]
     },
     "execution_count": 10,
     "metadata": {},
     "output_type": "execute_result"
    }
   ],
   "source": [
    "join_strings[2]"
   ]
  },
  {
   "cell_type": "markdown",
   "id": "e3cf25ce",
   "metadata": {},
   "source": [
    "## List slices\n",
    "\n",
    "Suppose that you want to call a subset of a list or string. You can do this by using calling lst[start: end]"
   ]
  },
  {
   "cell_type": "code",
   "execution_count": 11,
   "id": "2f8d1e1c",
   "metadata": {},
   "outputs": [
    {
     "data": {
      "text/plain": [
       "[4, 6, 32, 6, 7, 98, 1, 6, 3, 7, 89, 0]"
      ]
     },
     "execution_count": 11,
     "metadata": {},
     "output_type": "execute_result"
    }
   ],
   "source": [
    "join_lists"
   ]
  },
  {
   "cell_type": "code",
   "execution_count": 12,
   "id": "f55328cd",
   "metadata": {},
   "outputs": [
    {
     "data": {
      "text/plain": [
       "[4, 6, 32, 6, 7]"
      ]
     },
     "execution_count": 12,
     "metadata": {},
     "output_type": "execute_result"
    }
   ],
   "source": [
    "join_lists[:5]"
   ]
  },
  {
   "cell_type": "code",
   "execution_count": 13,
   "id": "1595ed1f",
   "metadata": {},
   "outputs": [
    {
     "data": {
      "text/plain": [
       "[4, 6, 32, 6, 7]"
      ]
     },
     "execution_count": 13,
     "metadata": {},
     "output_type": "execute_result"
    }
   ],
   "source": [
    "join_lists[0:5]"
   ]
  },
  {
   "cell_type": "code",
   "execution_count": 14,
   "id": "460bdd06",
   "metadata": {},
   "outputs": [
    {
     "data": {
      "text/plain": [
       "'Some '"
      ]
     },
     "execution_count": 14,
     "metadata": {},
     "output_type": "execute_result"
    }
   ],
   "source": [
    "join_strings[:5]"
   ]
  },
  {
   "cell_type": "code",
   "execution_count": 15,
   "id": "590b41cb",
   "metadata": {},
   "outputs": [
    {
     "data": {
      "text/plain": [
       "'Some '"
      ]
     },
     "execution_count": 15,
     "metadata": {},
     "output_type": "execute_result"
    }
   ],
   "source": [
    "join_strings[0:5]"
   ]
  },
  {
   "cell_type": "code",
   "execution_count": 16,
   "id": "ec807017",
   "metadata": {},
   "outputs": [
    {
     "data": {
      "text/plain": [
       "'stringAnother string to concatenate with str1'"
      ]
     },
     "execution_count": 16,
     "metadata": {},
     "output_type": "execute_result"
    }
   ],
   "source": [
    "join_strings[5:]"
   ]
  },
  {
   "cell_type": "markdown",
   "id": "bfd5ac47",
   "metadata": {},
   "source": [
    "If you call lst[-1], it will access the last element in the list."
   ]
  },
  {
   "cell_type": "code",
   "execution_count": 17,
   "id": "1b7eb9a6",
   "metadata": {},
   "outputs": [
    {
     "data": {
      "text/plain": [
       "(0, '1')"
      ]
     },
     "execution_count": 17,
     "metadata": {},
     "output_type": "execute_result"
    }
   ],
   "source": [
    "join_lists[-1], join_strings[-1]"
   ]
  },
  {
   "cell_type": "markdown",
   "id": "fa25cae3",
   "metadata": {},
   "source": [
    "You can count from the end of the list using the negative sign (-). If you count backword after the first colon, this will call all except for the last i elements for a command lst[:-i]."
   ]
  },
  {
   "cell_type": "code",
   "execution_count": 18,
   "id": "2994b92c",
   "metadata": {},
   "outputs": [
    {
     "data": {
      "text/plain": [
       "([4, 6, 32, 6, 7, 98, 1, 6, 3, 7, 89],\n",
       " 'Some stringAnother string to concatenate with str')"
      ]
     },
     "execution_count": 18,
     "metadata": {},
     "output_type": "execute_result"
    }
   ],
   "source": [
    "join_lists[:-1], join_strings[:-1]"
   ]
  },
  {
   "cell_type": "code",
   "execution_count": 20,
   "id": "49646578",
   "metadata": {},
   "outputs": [
    {
     "data": {
      "text/plain": [
       "([4, 6, 32, 6, 7, 98, 1], 'Some stringAnother string to concatenate with')"
      ]
     },
     "execution_count": 20,
     "metadata": {},
     "output_type": "execute_result"
    }
   ],
   "source": [
    "join_lists[:-5], join_strings[:-5]"
   ]
  },
  {
   "cell_type": "markdown",
   "id": "982a1d24",
   "metadata": {},
   "source": [
    "## For Loops\n",
    "\n"
   ]
  },
  {
   "cell_type": "code",
   "execution_count": 40,
   "id": "fcde3c5a",
   "metadata": {},
   "outputs": [
    {
     "name": "stdout",
     "output_type": "stream",
     "text": [
      "list1: [1, 2, 3, 4, 5]\n",
      "list2: [6, 5, 4, 3, 100]\n",
      "0 1\n",
      "1 2\n",
      "2 3\n",
      "3 4\n",
      "4 5\n",
      "[1, 2, 3, 4, 5]\n",
      "0 6\n",
      "1 5\n",
      "2 4\n",
      "3 3\n",
      "4 100\n",
      "[1, 2, 3, 4, 5, 6, 5, 4, 3, 100] [1, 2, 3, 4, 5, 6, 5, 4, 3, 100]\n",
      "sum_list (append): [7, 7, 7, 7, 105]\n",
      "sum_list (insert): [7, 7, 7, 7]\n"
     ]
    }
   ],
   "source": [
    "list1 = [1,2,3,4,5]\n",
    "list2 = [6,5,4,3,100]\n",
    "\n",
    "print(\"list1:\", list1)\n",
    "print(\"list2:\", list2)\n",
    "\n",
    "# create a blank list that we will use to generate the same\n",
    "# results that we achieved using the + sign: concatenation\n",
    "concat_list = []\n",
    "\n",
    "len_list1 = len(list1)\n",
    "len_list2 = len(list2)\n",
    "\n",
    "# first let's concatenate\n",
    "for i in range(0,len_list1):\n",
    "    concat_list.append(list1[i])\n",
    "    print(i, list1[i])\n",
    "    \n",
    "print(concat_list)\n",
    "\n",
    "for i in range(0, len_list2):\n",
    "    print(i, list2[i])\n",
    "    concat_list.append(list2[i])\n",
    "    \n",
    "print(concat_list, list1 + list2)\n",
    "\n",
    "sum_list = []\n",
    "if len_list1 == len_list2:\n",
    "    for i in range(len_list1):\n",
    "        sum_list.append(list1[i] + list2[i])\n",
    "print(\"sum_list (append):\", sum_list)\n",
    "\n",
    "sum_list = []\n",
    "if len_list1 == len_list2:\n",
    "    for i in range(0, len_list1 - 1):\n",
    "        # lst.insert(index, value)\n",
    "        sum_list.insert(i, list1[i] + list2[i])\n",
    "print(\"sum_list (insert):\", sum_list)\n"
   ]
  },
  {
   "cell_type": "code",
   "execution_count": 42,
   "id": "0380585f",
   "metadata": {},
   "outputs": [
    {
     "data": {
      "text/plain": [
       "True"
      ]
     },
     "execution_count": 42,
     "metadata": {},
     "output_type": "execute_result"
    }
   ],
   "source": [
    "1 == 1"
   ]
  },
  {
   "cell_type": "code",
   "execution_count": 44,
   "id": "96f3eeae",
   "metadata": {},
   "outputs": [
    {
     "data": {
      "text/plain": [
       "False"
      ]
     },
     "execution_count": 44,
     "metadata": {},
     "output_type": "execute_result"
    }
   ],
   "source": [
    "1 != 1  # =/="
   ]
  },
  {
   "cell_type": "code",
   "execution_count": 47,
   "id": "918afc58",
   "metadata": {},
   "outputs": [
    {
     "name": "stdout",
     "output_type": "stream",
     "text": [
      "statement is True\n"
     ]
    }
   ],
   "source": [
    "if 1 == 1:\n",
    "    print(\"statement is\", 1 == 1)"
   ]
  },
  {
   "cell_type": "code",
   "execution_count": 50,
   "id": "bf97db65",
   "metadata": {},
   "outputs": [
    {
     "name": "stdout",
     "output_type": "stream",
     "text": [
      "i == 0 i < 5: True\n",
      "i == 1 i < 5: True\n",
      "i == 2 i < 5: True\n",
      "i == 3 i < 5: True\n",
      "i == 4 i < 5: True\n",
      "i == 5 i < 5: False\n",
      "i == 6 i < 5: False\n",
      "i == 7 i < 5: False\n",
      "i == 8 i < 5: False\n",
      "i == 9 i < 5: False\n"
     ]
    }
   ],
   "source": [
    "for i in range(10):\n",
    "    print(\"i ==\", i, \"i < 5:\", i < 5)"
   ]
  },
  {
   "cell_type": "code",
   "execution_count": 61,
   "id": "c4046608",
   "metadata": {},
   "outputs": [
    {
     "name": "stdout",
     "output_type": "stream",
     "text": [
      "[5, 4, 8, 0, 3, 5]\n",
      "['red', 'blue', 'orange', 'white', 'grey', 'black']\n"
     ]
    },
    {
     "data": {
      "text/plain": [
       "([8, 5, 5, 4, 3, 0], ['black', 'grey', 'red'])"
      ]
     },
     "execution_count": 61,
     "metadata": {},
     "output_type": "execute_result"
    }
   ],
   "source": [
    "list1 = [5, \n",
    "         4, \n",
    "         8,\n",
    "         0,\n",
    "         3,\n",
    "         5]\n",
    "list2 = [\"red\", \n",
    "         \"blue\", \n",
    "         \"orange\", \n",
    "         \"white\", \n",
    "         \"grey\", \n",
    "         \"black\"]\n",
    "\n",
    "print(list1)\n",
    "print(list2)\n",
    "\n",
    "sorted_list1 = sorted(list1)#, reverse = True)\n",
    "sorted_list2 = sorted(list2)\n",
    "\n",
    "sorted_list1[::-1], sorted_list2[::2]"
   ]
  },
  {
   "cell_type": "code",
   "execution_count": 67,
   "id": "08ac9a22",
   "metadata": {},
   "outputs": [
    {
     "name": "stdout",
     "output_type": "stream",
     "text": [
      "TypeError: unorderable types: str < int\n",
      "['1', '22', '3', '23', '5']\n",
      "[1, 22, 3, 23, 5]\n"
     ]
    },
    {
     "data": {
      "text/plain": [
       "(['1', '22', '23', '3', '5'], [1, 3, 5, 22, 23])"
      ]
     },
     "execution_count": 67,
     "metadata": {},
     "output_type": "execute_result"
    }
   ],
   "source": [
    "list3 = [\"1\", 22, \"3\", 23, \"5\"]\n",
    "try:\n",
    "    sorted_list3 = sorted(list3)\n",
    "except:\n",
    "    print(\"TypeError: unorderable types: str < int\")\n",
    "\n",
    "# generator function creates list using for loop\n",
    "# within the list created\n",
    "alpha_list3 = [str(val) for val in list3]\n",
    "\n",
    "num_list3 = []\n",
    "for val in list3:\n",
    "    num_list3.append(int(val))\n",
    "print(alpha_list3)\n",
    "print(num_list3)\n",
    "sorted(alpha_list3), sorted(num_list3)"
   ]
  },
  {
   "cell_type": "markdown",
   "id": "f1c97818",
   "metadata": {},
   "source": [
    "You can nest loops, meaning that you can add a loop within a loop."
   ]
  },
  {
   "cell_type": "code",
   "execution_count": 76,
   "id": "002e7019",
   "metadata": {},
   "outputs": [
    {
     "name": "stdout",
     "output_type": "stream",
     "text": [
      "i j k\n",
      "0 0 0\n",
      "0 0 1\n",
      "0 0 2\n",
      "0 0 3\n",
      "0 1 0\n",
      "0 1 1\n",
      "0 1 2\n",
      "0 1 3\n",
      "0 2 0\n",
      "0 2 1\n",
      "0 2 2\n",
      "0 2 3\n",
      "0 3 0\n",
      "0 3 1\n",
      "0 3 2\n",
      "0 3 3\n",
      "0 4 0\n",
      "0 4 1\n",
      "0 4 2\n",
      "0 4 3\n",
      "1 0 0\n",
      "1 0 1\n",
      "1 0 2\n",
      "1 0 3\n",
      "1 1 0\n",
      "1 1 1\n",
      "1 1 2\n",
      "1 1 3\n",
      "1 2 0\n",
      "1 2 1\n",
      "1 2 2\n",
      "1 2 3\n",
      "1 3 0\n",
      "1 3 1\n",
      "1 3 2\n",
      "1 3 3\n",
      "1 4 0\n",
      "1 4 1\n",
      "1 4 2\n",
      "1 4 3\n",
      "2 0 0\n",
      "2 0 1\n",
      "2 0 2\n",
      "2 0 3\n",
      "2 1 0\n",
      "2 1 1\n",
      "2 1 2\n",
      "2 1 3\n",
      "2 2 0\n",
      "2 2 1\n",
      "2 2 2\n",
      "2 2 3\n",
      "2 3 0\n",
      "2 3 1\n",
      "2 3 2\n",
      "2 3 3\n",
      "2 4 0\n",
      "2 4 1\n",
      "2 4 2\n",
      "2 4 3\n",
      "[0, 1, 2]\n",
      "[0, 1, 2, 3, 4]\n",
      "[0, 1, 2, 3]\n"
     ]
    }
   ],
   "source": [
    "print(\"i\", \"j\", \"k\")\n",
    "i_list = list(range(3))\n",
    "j_list = list(range(5))\n",
    "k_list = list(range(4))\n",
    "for i in range(3):\n",
    "    for j in range(5):\n",
    "        for k in range(4):\n",
    "            print(i, j, k)\n",
    "print(i_list, j_list, k_list, sep = \"\\n\")"
   ]
  }
 ],
 "metadata": {
  "kernelspec": {
   "display_name": "Python 3",
   "language": "python",
   "name": "python3"
  },
  "language_info": {
   "codemirror_mode": {
    "name": "ipython",
    "version": 3
   },
   "file_extension": ".py",
   "mimetype": "text/x-python",
   "name": "python",
   "nbconvert_exporter": "python",
   "pygments_lexer": "ipython3",
   "version": "3.8.8"
  }
 },
 "nbformat": 4,
 "nbformat_minor": 5
}
